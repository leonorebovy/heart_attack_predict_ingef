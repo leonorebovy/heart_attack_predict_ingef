{
  "nbformat": 4,
  "nbformat_minor": 0,
  "metadata": {
    "colab": {
      "name": "HA_predict.ipynb",
      "provenance": [],
      "collapsed_sections": [],
      "history_visible": true,
      "mount_file_id": "1z_m_0sjT1GExBq4f9B44hjD90IZiVsY-",
      "authorship_tag": "ABX9TyNSQBfX5VtGgG7sH1oQY6ab",
      "include_colab_link": true
    },
    "kernelspec": {
      "name": "python3",
      "display_name": "Python 3"
    },
    "language_info": {
      "name": "python"
    }
  },
  "cells": [
    {
      "cell_type": "markdown",
      "metadata": {
        "id": "view-in-github",
        "colab_type": "text"
      },
      "source": [
        "<a href=\"https://colab.research.google.com/github/leonorebovy/heart_attack_predict_ingef/blob/main/HA_predict.ipynb\" target=\"_parent\"><img src=\"https://colab.research.google.com/assets/colab-badge.svg\" alt=\"Open In Colab\"/></a>"
      ]
    },
    {
      "cell_type": "markdown",
      "metadata": {
        "id": "H2eJpRTu3XB0"
      },
      "source": [
        "# Heart Attack Prediction\n",
        "\n",
        "### Data\n",
        "The attached data contains a survey that was collected in 2007 in the United States by the CDC, where each row describes one person.  \n",
        "\n",
        "### Exercise\n",
        "Use machine learning models on the given data to analyze causing factors for heart attack. \n",
        "\n",
        "\n",
        "\n",
        "\n",
        "\n",
        "`Author: Leonore Bovy`\n"
      ]
    },
    {
      "cell_type": "markdown",
      "metadata": {
        "id": "vyW8szER3c8C"
      },
      "source": [
        "## Part 0: Data exploration and prep"
      ]
    },
    {
      "cell_type": "code",
      "metadata": {
        "id": "y8i2Vpq8z5Vt",
        "colab": {
          "base_uri": "https://localhost:8080/"
        },
        "outputId": "5f282b2f-bf1c-4a57-8939-1dc929616ddc"
      },
      "source": [
        "## Import modules\n",
        "import numpy as np # linear algebra\n",
        "import pandas as pd\n",
        "import numpy as np\n",
        "import copy\n",
        "import math\n",
        "import statsmodels.api as sm\n",
        "\n",
        "# Data viz\n",
        "import matplotlib.pyplot as plt\n",
        "import seaborn as sns\n",
        "\n",
        "# Model building\n",
        "from sklearn.model_selection import train_test_split\n",
        "from sklearn.metrics import log_loss, roc_auc_score, recall_score, precision_score, average_precision_score, f1_score, classification_report, accuracy_score, plot_roc_curve, plot_precision_recall_curve, plot_confusion_matrix\n",
        "from sklearn.linear_model import LogisticRegression\n",
        "from scipy.stats import chi2_contingency\n",
        "\n",
        "!pip install catboost\n",
        "from catboost import CatBoostClassifier"
      ],
      "execution_count": 34,
      "outputs": [
        {
          "output_type": "stream",
          "name": "stdout",
          "text": [
            "Requirement already satisfied: catboost in /usr/local/lib/python3.7/dist-packages (1.0.3)\n",
            "Requirement already satisfied: pandas>=0.24.0 in /usr/local/lib/python3.7/dist-packages (from catboost) (1.1.5)\n",
            "Requirement already satisfied: six in /usr/local/lib/python3.7/dist-packages (from catboost) (1.15.0)\n",
            "Requirement already satisfied: scipy in /usr/local/lib/python3.7/dist-packages (from catboost) (1.4.1)\n",
            "Requirement already satisfied: numpy>=1.16.0 in /usr/local/lib/python3.7/dist-packages (from catboost) (1.19.5)\n",
            "Requirement already satisfied: matplotlib in /usr/local/lib/python3.7/dist-packages (from catboost) (3.2.2)\n",
            "Requirement already satisfied: plotly in /usr/local/lib/python3.7/dist-packages (from catboost) (4.4.1)\n",
            "Requirement already satisfied: graphviz in /usr/local/lib/python3.7/dist-packages (from catboost) (0.10.1)\n",
            "Requirement already satisfied: python-dateutil>=2.7.3 in /usr/local/lib/python3.7/dist-packages (from pandas>=0.24.0->catboost) (2.8.2)\n",
            "Requirement already satisfied: pytz>=2017.2 in /usr/local/lib/python3.7/dist-packages (from pandas>=0.24.0->catboost) (2018.9)\n",
            "Requirement already satisfied: pyparsing!=2.0.4,!=2.1.2,!=2.1.6,>=2.0.1 in /usr/local/lib/python3.7/dist-packages (from matplotlib->catboost) (2.4.7)\n",
            "Requirement already satisfied: cycler>=0.10 in /usr/local/lib/python3.7/dist-packages (from matplotlib->catboost) (0.11.0)\n",
            "Requirement already satisfied: kiwisolver>=1.0.1 in /usr/local/lib/python3.7/dist-packages (from matplotlib->catboost) (1.3.2)\n",
            "Requirement already satisfied: retrying>=1.3.3 in /usr/local/lib/python3.7/dist-packages (from plotly->catboost) (1.3.3)\n"
          ]
        }
      ]
    },
    {
      "cell_type": "code",
      "metadata": {
        "id": "urAEAjiX1Lcu",
        "colab": {
          "base_uri": "https://localhost:8080/",
          "height": 478
        },
        "outputId": "b4787275-339d-4c2e-a22b-3c323abe7588"
      },
      "source": [
        "## Read in the data\n",
        "# Please note that the data was loaded via google drive, change path accordingly.\n",
        "data = pd.read_csv(\"drive/My Drive/Arthritis_on_heart_attack.csv\")\n",
        "data.head()\n",
        "\n",
        "# Create a copy of original\n",
        "copy.copy(data)\n",
        "copy_orig_data = copy.copy(data)\n",
        "copy_orig_data"
      ],
      "execution_count": 5,
      "outputs": [
        {
          "output_type": "execute_result",
          "data": {
            "text/html": [
              "<div>\n",
              "<style scoped>\n",
              "    .dataframe tbody tr th:only-of-type {\n",
              "        vertical-align: middle;\n",
              "    }\n",
              "\n",
              "    .dataframe tbody tr th {\n",
              "        vertical-align: top;\n",
              "    }\n",
              "\n",
              "    .dataframe thead th {\n",
              "        text-align: right;\n",
              "    }\n",
              "</style>\n",
              "<table border=\"1\" class=\"dataframe\">\n",
              "  <thead>\n",
              "    <tr style=\"text-align: right;\">\n",
              "      <th></th>\n",
              "      <th>Unnamed: 0</th>\n",
              "      <th>arthritis.type</th>\n",
              "      <th>gender</th>\n",
              "      <th>bmi</th>\n",
              "      <th>diabetes</th>\n",
              "      <th>smoke</th>\n",
              "      <th>age</th>\n",
              "      <th>education</th>\n",
              "      <th>marriage</th>\n",
              "      <th>physical.activity</th>\n",
              "      <th>medical.access</th>\n",
              "      <th>blood.pressure</th>\n",
              "      <th>healthy.diet</th>\n",
              "      <th>covered.health</th>\n",
              "      <th>heart.attack</th>\n",
              "    </tr>\n",
              "  </thead>\n",
              "  <tbody>\n",
              "    <tr>\n",
              "      <th>0</th>\n",
              "      <td>1</td>\n",
              "      <td>Non-arthritis</td>\n",
              "      <td>Male</td>\n",
              "      <td>(25,80]</td>\n",
              "      <td>No</td>\n",
              "      <td>No</td>\n",
              "      <td>(50,70]</td>\n",
              "      <td>School</td>\n",
              "      <td>Married</td>\n",
              "      <td>Moderate</td>\n",
              "      <td>Yes</td>\n",
              "      <td>No</td>\n",
              "      <td>Fair</td>\n",
              "      <td>No</td>\n",
              "      <td>No</td>\n",
              "    </tr>\n",
              "    <tr>\n",
              "      <th>1</th>\n",
              "      <td>2</td>\n",
              "      <td>Non-arthritis</td>\n",
              "      <td>Male</td>\n",
              "      <td>(0,25]</td>\n",
              "      <td>No</td>\n",
              "      <td>No</td>\n",
              "      <td>(19.9,50]</td>\n",
              "      <td>High.School</td>\n",
              "      <td>Not.married</td>\n",
              "      <td>No</td>\n",
              "      <td>Yes</td>\n",
              "      <td>No</td>\n",
              "      <td>Good</td>\n",
              "      <td>No</td>\n",
              "      <td>No</td>\n",
              "    </tr>\n",
              "    <tr>\n",
              "      <th>2</th>\n",
              "      <td>3</td>\n",
              "      <td>Non-arthritis</td>\n",
              "      <td>Male</td>\n",
              "      <td>(25,80]</td>\n",
              "      <td>No</td>\n",
              "      <td>Yes</td>\n",
              "      <td>(50,70]</td>\n",
              "      <td>High.School</td>\n",
              "      <td>Married</td>\n",
              "      <td>No</td>\n",
              "      <td>Yes</td>\n",
              "      <td>Yes</td>\n",
              "      <td>Good</td>\n",
              "      <td>Yes</td>\n",
              "      <td>No</td>\n",
              "    </tr>\n",
              "    <tr>\n",
              "      <th>3</th>\n",
              "      <td>4</td>\n",
              "      <td>Rheumatoid arthritis</td>\n",
              "      <td>Male</td>\n",
              "      <td>(25,80]</td>\n",
              "      <td>Yes</td>\n",
              "      <td>No</td>\n",
              "      <td>(50,70]</td>\n",
              "      <td>College</td>\n",
              "      <td>Married</td>\n",
              "      <td>No</td>\n",
              "      <td>Yes</td>\n",
              "      <td>Yes</td>\n",
              "      <td>Poor</td>\n",
              "      <td>Yes</td>\n",
              "      <td>No</td>\n",
              "    </tr>\n",
              "    <tr>\n",
              "      <th>4</th>\n",
              "      <td>5</td>\n",
              "      <td>Non-arthritis</td>\n",
              "      <td>Female</td>\n",
              "      <td>(25,80]</td>\n",
              "      <td>No</td>\n",
              "      <td>No</td>\n",
              "      <td>(19.9,50]</td>\n",
              "      <td>High.School</td>\n",
              "      <td>Married</td>\n",
              "      <td>Moderate</td>\n",
              "      <td>No</td>\n",
              "      <td>No</td>\n",
              "      <td>Fair</td>\n",
              "      <td>No</td>\n",
              "      <td>No</td>\n",
              "    </tr>\n",
              "    <tr>\n",
              "      <th>...</th>\n",
              "      <td>...</td>\n",
              "      <td>...</td>\n",
              "      <td>...</td>\n",
              "      <td>...</td>\n",
              "      <td>...</td>\n",
              "      <td>...</td>\n",
              "      <td>...</td>\n",
              "      <td>...</td>\n",
              "      <td>...</td>\n",
              "      <td>...</td>\n",
              "      <td>...</td>\n",
              "      <td>...</td>\n",
              "      <td>...</td>\n",
              "      <td>...</td>\n",
              "      <td>...</td>\n",
              "    </tr>\n",
              "    <tr>\n",
              "      <th>3783</th>\n",
              "      <td>3784</td>\n",
              "      <td>Non-arthritis</td>\n",
              "      <td>Male</td>\n",
              "      <td>(25,80]</td>\n",
              "      <td>Yes</td>\n",
              "      <td>Yes</td>\n",
              "      <td>(50,70]</td>\n",
              "      <td>High.School</td>\n",
              "      <td>Married</td>\n",
              "      <td>No</td>\n",
              "      <td>Yes</td>\n",
              "      <td>Yes</td>\n",
              "      <td>Good</td>\n",
              "      <td>Yes</td>\n",
              "      <td>No</td>\n",
              "    </tr>\n",
              "    <tr>\n",
              "      <th>3784</th>\n",
              "      <td>3785</td>\n",
              "      <td>Non-arthritis</td>\n",
              "      <td>Male</td>\n",
              "      <td>(25,80]</td>\n",
              "      <td>No</td>\n",
              "      <td>No</td>\n",
              "      <td>(19.9,50]</td>\n",
              "      <td>College</td>\n",
              "      <td>Married</td>\n",
              "      <td>No</td>\n",
              "      <td>Yes</td>\n",
              "      <td>No</td>\n",
              "      <td>Fair</td>\n",
              "      <td>Yes</td>\n",
              "      <td>No</td>\n",
              "    </tr>\n",
              "    <tr>\n",
              "      <th>3785</th>\n",
              "      <td>3786</td>\n",
              "      <td>Non-arthritis</td>\n",
              "      <td>Male</td>\n",
              "      <td>(25,80]</td>\n",
              "      <td>No</td>\n",
              "      <td>Yes</td>\n",
              "      <td>(50,70]</td>\n",
              "      <td>School</td>\n",
              "      <td>Married</td>\n",
              "      <td>High</td>\n",
              "      <td>Yes</td>\n",
              "      <td>Yes</td>\n",
              "      <td>Poor</td>\n",
              "      <td>No</td>\n",
              "      <td>No</td>\n",
              "    </tr>\n",
              "    <tr>\n",
              "      <th>3786</th>\n",
              "      <td>3787</td>\n",
              "      <td>Non-arthritis</td>\n",
              "      <td>Female</td>\n",
              "      <td>(25,80]</td>\n",
              "      <td>No</td>\n",
              "      <td>Yes</td>\n",
              "      <td>(19.9,50]</td>\n",
              "      <td>High.School</td>\n",
              "      <td>Married</td>\n",
              "      <td>High</td>\n",
              "      <td>No</td>\n",
              "      <td>No</td>\n",
              "      <td>Good</td>\n",
              "      <td>Yes</td>\n",
              "      <td>No</td>\n",
              "    </tr>\n",
              "    <tr>\n",
              "      <th>3787</th>\n",
              "      <td>3788</td>\n",
              "      <td>Non-arthritis</td>\n",
              "      <td>Male</td>\n",
              "      <td>(25,80]</td>\n",
              "      <td>No</td>\n",
              "      <td>Yes</td>\n",
              "      <td>(70,81]</td>\n",
              "      <td>School</td>\n",
              "      <td>Not.married</td>\n",
              "      <td>No</td>\n",
              "      <td>Yes</td>\n",
              "      <td>No</td>\n",
              "      <td>Good</td>\n",
              "      <td>Yes</td>\n",
              "      <td>Yes</td>\n",
              "    </tr>\n",
              "  </tbody>\n",
              "</table>\n",
              "<p>3788 rows × 15 columns</p>\n",
              "</div>"
            ],
            "text/plain": [
              "      Unnamed: 0        arthritis.type  ... covered.health heart.attack\n",
              "0              1         Non-arthritis  ...             No           No\n",
              "1              2         Non-arthritis  ...             No           No\n",
              "2              3         Non-arthritis  ...            Yes           No\n",
              "3              4  Rheumatoid arthritis  ...            Yes           No\n",
              "4              5         Non-arthritis  ...             No           No\n",
              "...          ...                   ...  ...            ...          ...\n",
              "3783        3784         Non-arthritis  ...            Yes           No\n",
              "3784        3785         Non-arthritis  ...            Yes           No\n",
              "3785        3786         Non-arthritis  ...             No           No\n",
              "3786        3787         Non-arthritis  ...            Yes           No\n",
              "3787        3788         Non-arthritis  ...            Yes          Yes\n",
              "\n",
              "[3788 rows x 15 columns]"
            ]
          },
          "metadata": {},
          "execution_count": 5
        }
      ]
    },
    {
      "cell_type": "code",
      "metadata": {
        "id": "ycUtjHDR4DgY",
        "colab": {
          "base_uri": "https://localhost:8080/"
        },
        "outputId": "85267a5e-ec7e-4dc6-e3ce-c466ad61b7e6"
      },
      "source": [
        "## Data exploration\n",
        "# Check for data types \n",
        "data.info()\n",
        "data.describe()\n",
        "\n",
        "# How many have heart attack?\n",
        "data['heart.attack'].value_counts()\n",
        "\n",
        "# Checking for missing values\n",
        "data.isna().sum()"
      ],
      "execution_count": 6,
      "outputs": [
        {
          "output_type": "stream",
          "name": "stdout",
          "text": [
            "<class 'pandas.core.frame.DataFrame'>\n",
            "RangeIndex: 3788 entries, 0 to 3787\n",
            "Data columns (total 15 columns):\n",
            " #   Column             Non-Null Count  Dtype \n",
            "---  ------             --------------  ----- \n",
            " 0   Unnamed: 0         3788 non-null   int64 \n",
            " 1   arthritis.type     3788 non-null   object\n",
            " 2   gender             3788 non-null   object\n",
            " 3   bmi                3788 non-null   object\n",
            " 4   diabetes           3788 non-null   object\n",
            " 5   smoke              3788 non-null   object\n",
            " 6   age                3788 non-null   object\n",
            " 7   education          3788 non-null   object\n",
            " 8   marriage           3788 non-null   object\n",
            " 9   physical.activity  3788 non-null   object\n",
            " 10  medical.access     3788 non-null   object\n",
            " 11  blood.pressure     3788 non-null   object\n",
            " 12  healthy.diet       3788 non-null   object\n",
            " 13  covered.health     3788 non-null   object\n",
            " 14  heart.attack       3788 non-null   object\n",
            "dtypes: int64(1), object(14)\n",
            "memory usage: 444.0+ KB\n"
          ]
        },
        {
          "output_type": "execute_result",
          "data": {
            "text/plain": [
              "Unnamed: 0           0\n",
              "arthritis.type       0\n",
              "gender               0\n",
              "bmi                  0\n",
              "diabetes             0\n",
              "smoke                0\n",
              "age                  0\n",
              "education            0\n",
              "marriage             0\n",
              "physical.activity    0\n",
              "medical.access       0\n",
              "blood.pressure       0\n",
              "healthy.diet         0\n",
              "covered.health       0\n",
              "heart.attack         0\n",
              "dtype: int64"
            ]
          },
          "metadata": {},
          "execution_count": 6
        }
      ]
    },
    {
      "cell_type": "markdown",
      "metadata": {
        "id": "FqDxdvvy751n"
      },
      "source": [
        "## Interim evaluation\n",
        "It looks like there a no missing values in our dataset (yay!)\n",
        "\n",
        "Of all 3788 patients, 3678 have no heart attack and 110 do have a heart attack. That means our data is not very balanced, which could lead to problems in the model predictions later on. \n",
        "\n",
        "It looks like the data is stored in categorical variables. Better work with numerically-coded variables as model input, therefore I will transform them accordingly. The copy of the original data can be used to deduce which codes belong to which category.\n"
      ]
    },
    {
      "cell_type": "code",
      "metadata": {
        "id": "UEJeUeCHLALa",
        "colab": {
          "base_uri": "https://localhost:8080/",
          "height": 540
        },
        "outputId": "d379bf8e-047e-43d1-a7ae-33e5db9e5862"
      },
      "source": [
        "from scipy.stats import chi2_contingency\n",
        "## Data wrangling\n",
        "## Convert variables from object to categorical\n",
        "data[data.select_dtypes(['object']).columns] = data.select_dtypes(['object']).apply(lambda x: x.astype('category'))\n",
        "## Convert variables from categorical to code\n",
        "data[data.select_dtypes(['category']).columns] = data.select_dtypes(['category']).apply(lambda x: x.cat.codes)\n",
        "\n",
        "## Remove the first column (uninformative)\n",
        "data = data.iloc[: , 1:]\n",
        "\n",
        "## Those variables that are not dummy coded yet (i.e. only have 1/0 values) need to be transformed as well\n",
        "data = pd.get_dummies(data, columns=['age', 'education', 'physical.activity', 'healthy.diet'], drop_first=True)\n",
        "\n",
        "data.head(15)"
      ],
      "execution_count": 7,
      "outputs": [
        {
          "output_type": "execute_result",
          "data": {
            "text/html": [
              "<div>\n",
              "<style scoped>\n",
              "    .dataframe tbody tr th:only-of-type {\n",
              "        vertical-align: middle;\n",
              "    }\n",
              "\n",
              "    .dataframe tbody tr th {\n",
              "        vertical-align: top;\n",
              "    }\n",
              "\n",
              "    .dataframe thead th {\n",
              "        text-align: right;\n",
              "    }\n",
              "</style>\n",
              "<table border=\"1\" class=\"dataframe\">\n",
              "  <thead>\n",
              "    <tr style=\"text-align: right;\">\n",
              "      <th></th>\n",
              "      <th>arthritis.type</th>\n",
              "      <th>gender</th>\n",
              "      <th>bmi</th>\n",
              "      <th>diabetes</th>\n",
              "      <th>smoke</th>\n",
              "      <th>marriage</th>\n",
              "      <th>medical.access</th>\n",
              "      <th>blood.pressure</th>\n",
              "      <th>covered.health</th>\n",
              "      <th>heart.attack</th>\n",
              "      <th>age_1</th>\n",
              "      <th>age_2</th>\n",
              "      <th>education_1</th>\n",
              "      <th>education_2</th>\n",
              "      <th>physical.activity_1</th>\n",
              "      <th>physical.activity_2</th>\n",
              "      <th>healthy.diet_1</th>\n",
              "      <th>healthy.diet_2</th>\n",
              "    </tr>\n",
              "  </thead>\n",
              "  <tbody>\n",
              "    <tr>\n",
              "      <th>0</th>\n",
              "      <td>0</td>\n",
              "      <td>1</td>\n",
              "      <td>1</td>\n",
              "      <td>0</td>\n",
              "      <td>0</td>\n",
              "      <td>0</td>\n",
              "      <td>1</td>\n",
              "      <td>0</td>\n",
              "      <td>0</td>\n",
              "      <td>0</td>\n",
              "      <td>1</td>\n",
              "      <td>0</td>\n",
              "      <td>0</td>\n",
              "      <td>1</td>\n",
              "      <td>1</td>\n",
              "      <td>0</td>\n",
              "      <td>0</td>\n",
              "      <td>0</td>\n",
              "    </tr>\n",
              "    <tr>\n",
              "      <th>1</th>\n",
              "      <td>0</td>\n",
              "      <td>1</td>\n",
              "      <td>0</td>\n",
              "      <td>0</td>\n",
              "      <td>0</td>\n",
              "      <td>1</td>\n",
              "      <td>1</td>\n",
              "      <td>0</td>\n",
              "      <td>0</td>\n",
              "      <td>0</td>\n",
              "      <td>0</td>\n",
              "      <td>0</td>\n",
              "      <td>1</td>\n",
              "      <td>0</td>\n",
              "      <td>0</td>\n",
              "      <td>1</td>\n",
              "      <td>1</td>\n",
              "      <td>0</td>\n",
              "    </tr>\n",
              "    <tr>\n",
              "      <th>2</th>\n",
              "      <td>0</td>\n",
              "      <td>1</td>\n",
              "      <td>1</td>\n",
              "      <td>0</td>\n",
              "      <td>1</td>\n",
              "      <td>0</td>\n",
              "      <td>1</td>\n",
              "      <td>1</td>\n",
              "      <td>1</td>\n",
              "      <td>0</td>\n",
              "      <td>1</td>\n",
              "      <td>0</td>\n",
              "      <td>1</td>\n",
              "      <td>0</td>\n",
              "      <td>0</td>\n",
              "      <td>1</td>\n",
              "      <td>1</td>\n",
              "      <td>0</td>\n",
              "    </tr>\n",
              "    <tr>\n",
              "      <th>3</th>\n",
              "      <td>1</td>\n",
              "      <td>1</td>\n",
              "      <td>1</td>\n",
              "      <td>1</td>\n",
              "      <td>0</td>\n",
              "      <td>0</td>\n",
              "      <td>1</td>\n",
              "      <td>1</td>\n",
              "      <td>1</td>\n",
              "      <td>0</td>\n",
              "      <td>1</td>\n",
              "      <td>0</td>\n",
              "      <td>0</td>\n",
              "      <td>0</td>\n",
              "      <td>0</td>\n",
              "      <td>1</td>\n",
              "      <td>0</td>\n",
              "      <td>1</td>\n",
              "    </tr>\n",
              "    <tr>\n",
              "      <th>4</th>\n",
              "      <td>0</td>\n",
              "      <td>0</td>\n",
              "      <td>1</td>\n",
              "      <td>0</td>\n",
              "      <td>0</td>\n",
              "      <td>0</td>\n",
              "      <td>0</td>\n",
              "      <td>0</td>\n",
              "      <td>0</td>\n",
              "      <td>0</td>\n",
              "      <td>0</td>\n",
              "      <td>0</td>\n",
              "      <td>1</td>\n",
              "      <td>0</td>\n",
              "      <td>1</td>\n",
              "      <td>0</td>\n",
              "      <td>0</td>\n",
              "      <td>0</td>\n",
              "    </tr>\n",
              "    <tr>\n",
              "      <th>5</th>\n",
              "      <td>0</td>\n",
              "      <td>1</td>\n",
              "      <td>0</td>\n",
              "      <td>0</td>\n",
              "      <td>0</td>\n",
              "      <td>1</td>\n",
              "      <td>0</td>\n",
              "      <td>1</td>\n",
              "      <td>1</td>\n",
              "      <td>0</td>\n",
              "      <td>0</td>\n",
              "      <td>0</td>\n",
              "      <td>0</td>\n",
              "      <td>0</td>\n",
              "      <td>0</td>\n",
              "      <td>1</td>\n",
              "      <td>1</td>\n",
              "      <td>0</td>\n",
              "    </tr>\n",
              "    <tr>\n",
              "      <th>6</th>\n",
              "      <td>0</td>\n",
              "      <td>0</td>\n",
              "      <td>1</td>\n",
              "      <td>0</td>\n",
              "      <td>0</td>\n",
              "      <td>0</td>\n",
              "      <td>1</td>\n",
              "      <td>0</td>\n",
              "      <td>1</td>\n",
              "      <td>0</td>\n",
              "      <td>0</td>\n",
              "      <td>0</td>\n",
              "      <td>1</td>\n",
              "      <td>0</td>\n",
              "      <td>0</td>\n",
              "      <td>1</td>\n",
              "      <td>0</td>\n",
              "      <td>1</td>\n",
              "    </tr>\n",
              "    <tr>\n",
              "      <th>7</th>\n",
              "      <td>0</td>\n",
              "      <td>1</td>\n",
              "      <td>1</td>\n",
              "      <td>0</td>\n",
              "      <td>0</td>\n",
              "      <td>0</td>\n",
              "      <td>1</td>\n",
              "      <td>1</td>\n",
              "      <td>1</td>\n",
              "      <td>0</td>\n",
              "      <td>0</td>\n",
              "      <td>1</td>\n",
              "      <td>0</td>\n",
              "      <td>1</td>\n",
              "      <td>0</td>\n",
              "      <td>1</td>\n",
              "      <td>1</td>\n",
              "      <td>0</td>\n",
              "    </tr>\n",
              "    <tr>\n",
              "      <th>8</th>\n",
              "      <td>0</td>\n",
              "      <td>1</td>\n",
              "      <td>1</td>\n",
              "      <td>0</td>\n",
              "      <td>1</td>\n",
              "      <td>0</td>\n",
              "      <td>0</td>\n",
              "      <td>0</td>\n",
              "      <td>0</td>\n",
              "      <td>0</td>\n",
              "      <td>0</td>\n",
              "      <td>0</td>\n",
              "      <td>1</td>\n",
              "      <td>0</td>\n",
              "      <td>0</td>\n",
              "      <td>0</td>\n",
              "      <td>1</td>\n",
              "      <td>0</td>\n",
              "    </tr>\n",
              "    <tr>\n",
              "      <th>9</th>\n",
              "      <td>0</td>\n",
              "      <td>0</td>\n",
              "      <td>1</td>\n",
              "      <td>1</td>\n",
              "      <td>0</td>\n",
              "      <td>1</td>\n",
              "      <td>1</td>\n",
              "      <td>0</td>\n",
              "      <td>1</td>\n",
              "      <td>0</td>\n",
              "      <td>1</td>\n",
              "      <td>0</td>\n",
              "      <td>0</td>\n",
              "      <td>1</td>\n",
              "      <td>0</td>\n",
              "      <td>1</td>\n",
              "      <td>0</td>\n",
              "      <td>0</td>\n",
              "    </tr>\n",
              "    <tr>\n",
              "      <th>10</th>\n",
              "      <td>0</td>\n",
              "      <td>1</td>\n",
              "      <td>1</td>\n",
              "      <td>0</td>\n",
              "      <td>0</td>\n",
              "      <td>0</td>\n",
              "      <td>1</td>\n",
              "      <td>1</td>\n",
              "      <td>1</td>\n",
              "      <td>0</td>\n",
              "      <td>1</td>\n",
              "      <td>0</td>\n",
              "      <td>0</td>\n",
              "      <td>1</td>\n",
              "      <td>0</td>\n",
              "      <td>1</td>\n",
              "      <td>1</td>\n",
              "      <td>0</td>\n",
              "    </tr>\n",
              "    <tr>\n",
              "      <th>11</th>\n",
              "      <td>0</td>\n",
              "      <td>1</td>\n",
              "      <td>1</td>\n",
              "      <td>1</td>\n",
              "      <td>1</td>\n",
              "      <td>1</td>\n",
              "      <td>1</td>\n",
              "      <td>1</td>\n",
              "      <td>1</td>\n",
              "      <td>0</td>\n",
              "      <td>1</td>\n",
              "      <td>0</td>\n",
              "      <td>0</td>\n",
              "      <td>1</td>\n",
              "      <td>0</td>\n",
              "      <td>1</td>\n",
              "      <td>1</td>\n",
              "      <td>0</td>\n",
              "    </tr>\n",
              "    <tr>\n",
              "      <th>12</th>\n",
              "      <td>0</td>\n",
              "      <td>1</td>\n",
              "      <td>1</td>\n",
              "      <td>0</td>\n",
              "      <td>1</td>\n",
              "      <td>0</td>\n",
              "      <td>0</td>\n",
              "      <td>0</td>\n",
              "      <td>0</td>\n",
              "      <td>0</td>\n",
              "      <td>0</td>\n",
              "      <td>0</td>\n",
              "      <td>1</td>\n",
              "      <td>0</td>\n",
              "      <td>1</td>\n",
              "      <td>0</td>\n",
              "      <td>1</td>\n",
              "      <td>0</td>\n",
              "    </tr>\n",
              "    <tr>\n",
              "      <th>13</th>\n",
              "      <td>0</td>\n",
              "      <td>1</td>\n",
              "      <td>1</td>\n",
              "      <td>0</td>\n",
              "      <td>1</td>\n",
              "      <td>0</td>\n",
              "      <td>1</td>\n",
              "      <td>0</td>\n",
              "      <td>1</td>\n",
              "      <td>0</td>\n",
              "      <td>0</td>\n",
              "      <td>0</td>\n",
              "      <td>0</td>\n",
              "      <td>0</td>\n",
              "      <td>0</td>\n",
              "      <td>1</td>\n",
              "      <td>1</td>\n",
              "      <td>0</td>\n",
              "    </tr>\n",
              "    <tr>\n",
              "      <th>14</th>\n",
              "      <td>0</td>\n",
              "      <td>1</td>\n",
              "      <td>1</td>\n",
              "      <td>0</td>\n",
              "      <td>1</td>\n",
              "      <td>0</td>\n",
              "      <td>0</td>\n",
              "      <td>0</td>\n",
              "      <td>0</td>\n",
              "      <td>0</td>\n",
              "      <td>0</td>\n",
              "      <td>0</td>\n",
              "      <td>0</td>\n",
              "      <td>0</td>\n",
              "      <td>0</td>\n",
              "      <td>0</td>\n",
              "      <td>1</td>\n",
              "      <td>0</td>\n",
              "    </tr>\n",
              "  </tbody>\n",
              "</table>\n",
              "</div>"
            ],
            "text/plain": [
              "    arthritis.type  gender  ...  healthy.diet_1  healthy.diet_2\n",
              "0                0       1  ...               0               0\n",
              "1                0       1  ...               1               0\n",
              "2                0       1  ...               1               0\n",
              "3                1       1  ...               0               1\n",
              "4                0       0  ...               0               0\n",
              "5                0       1  ...               1               0\n",
              "6                0       0  ...               0               1\n",
              "7                0       1  ...               1               0\n",
              "8                0       1  ...               1               0\n",
              "9                0       0  ...               0               0\n",
              "10               0       1  ...               1               0\n",
              "11               0       1  ...               1               0\n",
              "12               0       1  ...               1               0\n",
              "13               0       1  ...               1               0\n",
              "14               0       1  ...               1               0\n",
              "\n",
              "[15 rows x 18 columns]"
            ]
          },
          "metadata": {},
          "execution_count": 7
        }
      ]
    },
    {
      "cell_type": "code",
      "metadata": {
        "id": "iFmvSp_4W4io",
        "colab": {
          "base_uri": "https://localhost:8080/",
          "height": 1000
        },
        "outputId": "30425f4c-f9fb-4fa4-8838-f77e29543518"
      },
      "source": [
        "# plots multiple seaborn countplots on different subplots.\n",
        "# source: https://www.justintodata.com/how-to-use-python-seaborn-for-exploratory-data-analysis/\n",
        "\n",
        "sns.set(font_scale=1.2)\n",
        "\n",
        "def plot_multiple_countplots(df, cols):\n",
        "    num_plots = len(cols)\n",
        "    num_cols = math.ceil(np.sqrt(num_plots))\n",
        "    num_rows = math.ceil(num_plots/num_cols)\n",
        "        \n",
        "    fig, axs = plt.subplots(num_rows, num_cols)\n",
        "    plt.subplots_adjust(hspace = 0.8)\n",
        "    plt.subplots_adjust(wspace = 0.8)\n",
        "\n",
        "    for ind, col in enumerate(cols):\n",
        "        i = math.floor(ind/num_cols)\n",
        "        j = ind - i*num_cols\n",
        "        \n",
        "        if num_rows == 1:\n",
        "            if num_cols == 1:\n",
        "                sns.countplot(x=df[col], ax=axs)\n",
        "            else:\n",
        "                sns.countplot(x=df[col], ax=axs[j])\n",
        "        else:\n",
        "            sns.countplot(x=df[col], ax=axs[i, j])\n",
        "            \n",
        "# Define all the columns we want to plot\n",
        "col_to_be_plotted = list(data.columns.values)\n",
        "\n",
        "# Plot per 4 variables for better overview\n",
        "plot_multiple_countplots(data,col_to_be_plotted[0:4])\n",
        "plot_multiple_countplots(data,col_to_be_plotted[4:8])\n",
        "plot_multiple_countplots(data,col_to_be_plotted[8:12])\n",
        "plot_multiple_countplots(data,col_to_be_plotted[12:14])"
      ],
      "execution_count": 8,
      "outputs": [
        {
          "output_type": "display_data",
          "data": {
            "image/png": "[encoded data removed]",
            "text/plain": [
              "<Figure size 432x288 with 4 Axes>"
            ]
          },
          "metadata": {}
        },
        {
          "output_type": "display_data",
          "data": {
            "image/png": "[encoded data removed]",
            "text/plain": [
              "<Figure size 432x288 with 4 Axes>"
            ]
          },
          "metadata": {}
        },
        {
          "output_type": "display_data",
          "data": {
            "image/png": "[encoded data removed]",
            "text/plain": [
              "<Figure size 432x288 with 4 Axes>"
            ]
          },
          "metadata": {}
        },
        {
          "output_type": "display_data",
          "data": {
            "image/png": "[encoded data removed]",
            "text/plain": [
              "<Figure size 432x288 with 2 Axes>"
            ]
          },
          "metadata": {}
        }
      ]
    },
    {
      "cell_type": "markdown",
      "metadata": {
        "id": "4EyXhGiJj6Q-"
      },
      "source": [
        "## Interim evaluation\n",
        "It seems a small minority of the sample has arthritis. Most have a high BMI, but no diabetes. Most are young (<50), are married and have college or high school education. Most perform no physical activity. Not sure what binary blood pressure variable means (blood pressure issues yes/no?). Most rated their diet as good. Medical data is available for most and they are insured.\n",
        "The dataset contains roughly equal males and females and equal amount of smokers."
      ]
    },
    {
      "cell_type": "markdown",
      "metadata": {
        "id": "KPrPLj619TL1"
      },
      "source": [
        "## Part 1: Is it possible to predict heart-attack based on the given features?\n",
        "\n",
        "Since heart attack (HA) is our outcome measurement and it is coded binary, we could try to predict using for example a simple logistic regression but also tree-based models (such as gradient boosting), neural networks or support vector machines could be used. \n",
        "Conceptually it would make sense to be able to predict HA from variables such as age (Lloyd-Jones et al., 2006), BMI (Flint et al., 2010), smoking status (Lee & Son, 2019) etc.\n",
        "\n",
        "References:\n",
        "\n",
        "https://www.ncbi.nlm.nih.gov/pmc/articles/PMC6696428/\n",
        "\n",
        "https://www.ahajournals.org/doi/full/10.1161/circulationaha.105.548206\n",
        "\n",
        "https://www.ncbi.nlm.nih.gov/pmc/articles/PMC2992336/\n",
        "\n",
        "\n",
        "\n",
        "So yes, theoretically it should be possible to predict heart-attack based on the given features and the data types. The next question would be how successfully such a model can predict HA :-)\n",
        "\n",
        "The low number of cases that have a HA could lead to problems. Let's first try to predict heart rate with the given variables using simple logistic regression.\n"
      ]
    },
    {
      "cell_type": "markdown",
      "metadata": {
        "id": "4xQDMwoAJ_VY"
      },
      "source": [
        "### Data splitting\n"
      ]
    },
    {
      "cell_type": "code",
      "metadata": {
        "id": "ymxGwfN89P_P",
        "colab": {
          "base_uri": "https://localhost:8080/"
        },
        "outputId": "56d94a85-9bac-48c3-d16a-668351f3a31f"
      },
      "source": [
        "## Create two datasets containing all either the data except the outcome (HA) variable, or only the outcome variable\n",
        "X = data.drop('heart.attack', axis=1)\n",
        "y = data['heart.attack']\n",
        "\n",
        "## Here we perform the split\n",
        "# Use default split size\n",
        "# Add a random state for reproducibility\n",
        "# Since our outcome variable is unbalanced, we should stratisfy the split\n",
        "X_train, X_test, y_train, y_test = train_test_split(X, y, random_state=1, stratify=y)\n",
        "\n",
        "## Looks balanced between train and test!\n",
        "y_train.value_counts()[1]/ y_train.value_counts()[0] #0.029720\n",
        "y_test.value_counts()[1] / y_test.value_counts()[0]  #0.030467"
      ],
      "execution_count": 10,
      "outputs": [
        {
          "output_type": "execute_result",
          "data": {
            "text/plain": [
              "0.030467899891186073"
            ]
          },
          "metadata": {},
          "execution_count": 10
        }
      ]
    },
    {
      "cell_type": "markdown",
      "metadata": {
        "id": "3BcytCjZKQZT"
      },
      "source": [
        "### Logistic regresssion"
      ]
    },
    {
      "cell_type": "code",
      "metadata": {
        "id": "qCOKx4I9KSz-",
        "colab": {
          "base_uri": "https://localhost:8080/"
        },
        "outputId": "8033c5ed-0504-438a-d10c-85d55ebf5497"
      },
      "source": [
        "## Run Logistic regression (default settings)\n",
        "log_regr = LogisticRegression()\n",
        "log_regr.fit(X_train, y_train)"
      ],
      "execution_count": 11,
      "outputs": [
        {
          "output_type": "execute_result",
          "data": {
            "text/plain": [
              "LogisticRegression()"
            ]
          },
          "metadata": {},
          "execution_count": 11
        }
      ]
    },
    {
      "cell_type": "code",
      "metadata": {
        "id": "_gF67haByDle",
        "colab": {
          "base_uri": "https://localhost:8080/"
        },
        "outputId": "c40fa0bf-add3-4e0b-86f3-5ddcfb559af5"
      },
      "source": [
        "## Check performance\n",
        "log_regr.predict_proba(X_train)\n",
        "\n",
        "print(\"Training sum of outcome scores: {}\".format(sum(log_regr.predict(X_train))))\n",
        "print(\"Testing sum of outcome scores: {}\".format(sum(log_regr.predict(X_test))))"
      ],
      "execution_count": 12,
      "outputs": [
        {
          "output_type": "stream",
          "name": "stdout",
          "text": [
            "Training sum of outcome scores: 0\n",
            "Testing sum of outcome scores: 0\n"
          ]
        }
      ]
    },
    {
      "cell_type": "code",
      "metadata": {
        "id": "30yZC8aowB1L",
        "colab": {
          "base_uri": "https://localhost:8080/"
        },
        "outputId": "037d1c0d-1023-4c48-db3d-a1af87bd78aa"
      },
      "source": [
        "## Check performance: accuracy score\n",
        "train_score = accuracy_score(y_train, log_regr.predict(X_train)) * 100\n",
        "test_score  = accuracy_score(y_test,  log_regr.predict(X_test))  * 100\n",
        "\n",
        "print(\"Training accuracy score: {}\".format(train_score))\n",
        "print(\"Test accuracy score: {}\".format(test_score))"
      ],
      "execution_count": 13,
      "outputs": [
        {
          "output_type": "stream",
          "name": "stdout",
          "text": [
            "Training accuracy score: 97.11369236184441\n",
            "Test accuracy score: 97.04329461457233\n"
          ]
        }
      ]
    },
    {
      "cell_type": "code",
      "metadata": {
        "id": "2L55f1v9voMR",
        "colab": {
          "base_uri": "https://localhost:8080/",
          "height": 411
        },
        "outputId": "64e5c51f-05ae-4882-e7b6-8afbfef6b93d"
      },
      "source": [
        "## Check performance: ROC curve\n",
        "plot_roc_curve(log_regr, X_test, y_test)"
      ],
      "execution_count": 14,
      "outputs": [
        {
          "output_type": "stream",
          "name": "stderr",
          "text": [
            "/usr/local/lib/python3.7/dist-packages/sklearn/utils/deprecation.py:87: FutureWarning: Function plot_roc_curve is deprecated; Function `plot_roc_curve` is deprecated in 1.0 and will be removed in 1.2. Use one of the class methods: RocCurveDisplay.from_predictions or RocCurveDisplay.from_estimator.\n",
            "  warnings.warn(msg, category=FutureWarning)\n"
          ]
        },
        {
          "output_type": "execute_result",
          "data": {
            "text/plain": [
              "<sklearn.metrics._plot.roc_curve.RocCurveDisplay at 0x7f63fde58ad0>"
            ]
          },
          "metadata": {},
          "execution_count": 14
        },
        {
          "output_type": "display_data",
          "data": {
            "image/png": "[encoded data removed]",
            "text/plain": [
              "<Figure size 432x288 with 1 Axes>"
            ]
          },
          "metadata": {}
        }
      ]
    },
    {
      "cell_type": "code",
      "metadata": {
        "id": "69Kd8o8fxZjl",
        "colab": {
          "base_uri": "https://localhost:8080/",
          "height": 388
        },
        "outputId": "c0ddc7cb-062c-448a-e7c3-804228210bab"
      },
      "source": [
        "## Check performance: Confusion matrix\n",
        "print('Confusion Matrix')\n",
        "plot_confusion_matrix(log_regr, X_test, y_test)"
      ],
      "execution_count": 15,
      "outputs": [
        {
          "output_type": "stream",
          "name": "stdout",
          "text": [
            "Confusion Matrix\n"
          ]
        },
        {
          "output_type": "stream",
          "name": "stderr",
          "text": [
            "/usr/local/lib/python3.7/dist-packages/sklearn/utils/deprecation.py:87: FutureWarning: Function plot_confusion_matrix is deprecated; Function `plot_confusion_matrix` is deprecated in 1.0 and will be removed in 1.2. Use one of the class methods: ConfusionMatrixDisplay.from_predictions or ConfusionMatrixDisplay.from_estimator.\n",
            "  warnings.warn(msg, category=FutureWarning)\n"
          ]
        },
        {
          "output_type": "execute_result",
          "data": {
            "text/plain": [
              "<sklearn.metrics._plot.confusion_matrix.ConfusionMatrixDisplay at 0x7f63fde583d0>"
            ]
          },
          "metadata": {},
          "execution_count": 15
        },
        {
          "output_type": "display_data",
          "data": {
            "image/png": "[encoded data removed]",
            "text/plain": [
              "<Figure size 432x288 with 2 Axes>"
            ]
          },
          "metadata": {}
        }
      ]
    },
    {
      "cell_type": "code",
      "metadata": {
        "id": "NNkgyeu8_j-r",
        "colab": {
          "base_uri": "https://localhost:8080/"
        },
        "outputId": "c63eb238-5fa7-453d-8877-641d9639f178"
      },
      "source": [
        "## Check performance: Classification report\n",
        "print(classification_report(y_test, log_regr.predict(X_test)))"
      ],
      "execution_count": 16,
      "outputs": [
        {
          "output_type": "stream",
          "name": "stdout",
          "text": [
            "              precision    recall  f1-score   support\n",
            "\n",
            "           0       0.97      1.00      0.98       919\n",
            "           1       0.00      0.00      0.00        28\n",
            "\n",
            "    accuracy                           0.97       947\n",
            "   macro avg       0.49      0.50      0.49       947\n",
            "weighted avg       0.94      0.97      0.96       947\n",
            "\n"
          ]
        },
        {
          "output_type": "stream",
          "name": "stderr",
          "text": [
            "/usr/local/lib/python3.7/dist-packages/sklearn/metrics/_classification.py:1308: UndefinedMetricWarning: Precision and F-score are ill-defined and being set to 0.0 in labels with no predicted samples. Use `zero_division` parameter to control this behavior.\n",
            "  _warn_prf(average, modifier, msg_start, len(result))\n",
            "/usr/local/lib/python3.7/dist-packages/sklearn/metrics/_classification.py:1308: UndefinedMetricWarning: Precision and F-score are ill-defined and being set to 0.0 in labels with no predicted samples. Use `zero_division` parameter to control this behavior.\n",
            "  _warn_prf(average, modifier, msg_start, len(result))\n",
            "/usr/local/lib/python3.7/dist-packages/sklearn/metrics/_classification.py:1308: UndefinedMetricWarning: Precision and F-score are ill-defined and being set to 0.0 in labels with no predicted samples. Use `zero_division` parameter to control this behavior.\n",
            "  _warn_prf(average, modifier, msg_start, len(result))\n"
          ]
        }
      ]
    },
    {
      "cell_type": "code",
      "metadata": {
        "id": "bY5K2EMoGSYE",
        "colab": {
          "base_uri": "https://localhost:8080/",
          "height": 620
        },
        "outputId": "676f09f6-0d80-4b2a-9da9-a25b1af4a461"
      },
      "source": [
        "## Check performance: Feature importance\n",
        "\n",
        "# get importance\n",
        "importance = log_regr.coef_[0]\n",
        "# summarize feature importance\n",
        "for i,v in enumerate(importance):\n",
        "\tprint('Feature: %0d, Score: %.5f' % (i,v))\n",
        "\n",
        "# The positive scores indicate a feature that predicts class 1, \n",
        "# whereas the negative scores indicate a feature that predicts class 0.\n",
        "\n",
        "## Create labels for feature importance plot\n",
        "feat_num = list(range(0,18))\n",
        "print(list(zip(feat_num, list(data.columns))))\n",
        "\n",
        "# plot feature importance\n",
        "plt.bar([x for x in range(len(importance))], importance)\n",
        "plt.show()"
      ],
      "execution_count": 17,
      "outputs": [
        {
          "output_type": "stream",
          "name": "stdout",
          "text": [
            "Feature: 0, Score: 0.26544\n",
            "Feature: 1, Score: 1.04007\n",
            "Feature: 2, Score: 0.34663\n",
            "Feature: 3, Score: 0.23778\n",
            "Feature: 4, Score: 0.81365\n",
            "Feature: 5, Score: 0.07829\n",
            "Feature: 6, Score: -0.00707\n",
            "Feature: 7, Score: 1.25707\n",
            "Feature: 8, Score: 0.19965\n",
            "Feature: 9, Score: 0.63050\n",
            "Feature: 10, Score: 1.62242\n",
            "Feature: 11, Score: 0.08693\n",
            "Feature: 12, Score: 0.01442\n",
            "Feature: 13, Score: -0.07491\n",
            "Feature: 14, Score: 0.06103\n",
            "Feature: 15, Score: 0.01684\n",
            "Feature: 16, Score: 0.77485\n",
            "[(0, 'arthritis.type'), (1, 'gender'), (2, 'bmi'), (3, 'diabetes'), (4, 'smoke'), (5, 'marriage'), (6, 'medical.access'), (7, 'blood.pressure'), (8, 'covered.health'), (9, 'heart.attack'), (10, 'age_1'), (11, 'age_2'), (12, 'education_1'), (13, 'education_2'), (14, 'physical.activity_1'), (15, 'physical.activity_2'), (16, 'healthy.diet_1'), (17, 'healthy.diet_2')]\n"
          ]
        },
        {
          "output_type": "display_data",
          "data": {
            "image/png": "[encoded data removed]",
            "text/plain": [
              "<Figure size 432x288 with 1 Axes>"
            ]
          },
          "metadata": {}
        }
      ]
    },
    {
      "cell_type": "markdown",
      "metadata": {
        "id": "PYUUl8Yu37-K"
      },
      "source": [
        "### Model evaluation\n",
        "\n",
        "It looks like age and bloodpressure are the best predictors of HA. However, it seems like our model always (100% of the cases) predicts the sample to NOT have a heart attack. This leads to a high accuracy (97%) since there are a lot of true negatives, but in our confusion matrix we also see that the model has zero true positives. \n",
        "This would make this a bad model, as it is not able to predict HA succesfully at all.\n",
        "\n",
        "This result is however not surprising, since using a \"vanilla\" logistic regression with default settings might not be sensitive enough to pick up and properly weight the small amount of samples that have a HA in the original dataset or handle many covariates.\n",
        "Let's see if a different model would be able to perform better!\n"
      ]
    },
    {
      "cell_type": "markdown",
      "metadata": {
        "id": "8xnizy8M39vn"
      },
      "source": [
        "## Part 2: How can we measure the quality of the model? \n",
        "There are multiple ways to check model performance. We can use classification metrics or convenience methods (e.g. creating reports) to do so. \n",
        "In the example here, I looked at the actual predictions, calculated model accuracy, looked at a ROC curve, confusion matrix and lastly created a classification report. Note that one should look at multiple measurements of model performance to get a good feeling for the quality of the model.\n",
        "\n",
        "The predictions tell us the predicted probability of the logistic regression for each case. The first column of the output of predict_proba is P(HA = 0), and the second column is P(HA = 1). Looks like all cases have a high probablity for being scored a 0. \n",
        "\n",
        "The model accuracy tells us the number of classifications that are correctly predicted divided by the total number of predictions made. This is very high, since most of the cases are indeed truely 0. However, we can note that in this case accuracy (alone) is not a very good measurement of quality as it gives us false confidence that it's a good model. We have to look at multiple measurements to gather more evidence on the model quality!\n",
        "\n",
        "The ROC curve tells us the trade-off between the true positive rate and false positive rate using different probability thresholds. The higher the curve towards the top left corner, the better the model, also leading to a larger area under the curve (AUC). Looks like our model does not perform ideally by it's shape and the AUC value of .85 (the higher the better).  \n",
        "\n",
        "The confusion matrix tells us the amount of true positives, true negatives, false positives (\"Type I error\") and false negatives (\"Type II error\"). We see mostly true negatives but zero true positives. This leads us to conclude it's a bad model, since it cannot predict HA at all. \n",
        "\n",
        "Lastly, the automatic classification report from the sklearn module gives us a summary of the precision, recall, F1 score for each class.\n",
        "Precision is the ratio of true positives to the sum of true and false positives, in other words: the accuracy of positive predictions. Recall is defined as the ratio of true positives to the sum of true positives and false negatives, in other words: the fraction of positives that were correctly identified. The F1 score is a weighted mean of precision and recall such that the best score is 1.0 and the worst is 0.0.\n",
        "\n",
        "In addition, more methods are available to do model testing and learn how to tune your model better. For example, cross validation methods can check perfomance on unseen data.\n",
        "\n",
        "\n"
      ]
    },
    {
      "cell_type": "markdown",
      "metadata": {
        "id": "vDIb20ciE99-"
      },
      "source": [
        "## Part 3: Which classification model did you choose and why is it good for the use case? Are there other models that would suit the use case and if so, why? \n",
        "\n",
        "Logistic regression is the standard, most popular approach when the goal is to predict an outcome with two categories and therefore a logical first choice for this type of use case. It is a fast, easy to understand method. However, we have noticed that our default model performs very poorly. Before switching to a new model, one should consider changing the parameters of the default model first, to see if performance increases. One could for example try to weight the HA cases, such that those cases that are 1 (HA) are considered more strongly. Alternatively, one could equalize the number of 0(no-HA) and 1(HA) cases in the training set and perform the training/testing steps multiple times. \n",
        "\n",
        "In the end, there are multiple alternatives to use on this type of binary-outcome classification problems instead of logistic regression, which may perform better. Each model comes with its own set of pros and cons. \n",
        "Given the rather small dataset, a neural network would not be well-suited. However, one could consider other methods that work better with many covariates such as K-Nearest Neighbor. Alternatively, for classification problems, tree-based models (such as gradient boosting) may outperform logistic regression performance, where libraries such as XGBoost win \"practically every competition in the structured data category\" according to Anthony Goldbloom, founder and CEO of Kaggle.\n",
        "\n",
        "Since our data is categorical in nature, the library CatBoost may be helpful as it provides a gradient boosting framework which attempts to solve for categorical features specifically. \n",
        "\n",
        "\n",
        "\n",
        "Reference:\n",
        "https://www.import.io/post/how-to-win-a-kaggle-competition/\n",
        "\n",
        "\n",
        "\n"
      ]
    },
    {
      "cell_type": "markdown",
      "metadata": {
        "id": "JOEmcmaGaK-I"
      },
      "source": [
        "## Part 4:\tPlease compare your model with at least one other model and explain the differences.\n",
        "\n",
        "Let's create an CatBoost model to compare.\n",
        "Since CatBoost can work with the original categorical data, let's see how it works with the original data containing the categorical variables.\n"
      ]
    },
    {
      "cell_type": "markdown",
      "metadata": {
        "id": "81JGcjHEU5bj"
      },
      "source": [
        "### Data splitting\n"
      ]
    },
    {
      "cell_type": "code",
      "metadata": {
        "id": "ypO2eV5eddfJ"
      },
      "source": [
        "## Split the orig data new\n",
        "## Create two datasets containing all either the data except the outcome (HA) variable, or only the outcome variable\n",
        "## Remove the first column (uninformative)\n",
        "copy_orig_data = copy_orig_data.iloc[: , 1:]\n",
        "\n",
        "X_o = copy_orig_data.drop('heart.attack', axis=1)\n",
        "y_o = copy_orig_data['heart.attack']\n",
        "\n",
        "## Here we perform the split\n",
        "# Since our outcome variable is unbalanced, we should stratisfy the split\n",
        "X_o_train, X_o_test, y_o_train, y_o_test = train_test_split(X_o, y_o, random_state=1, stratify=y)\n"
      ],
      "execution_count": 18,
      "outputs": []
    },
    {
      "cell_type": "code",
      "metadata": {
        "colab": {
          "base_uri": "https://localhost:8080/"
        },
        "id": "vsVeGIL91Yzd",
        "outputId": "538d5c8d-e2ea-4a3e-95f0-45aafe3ca55b"
      },
      "source": [
        "## Note which variables are categorical for CatBoost input\n",
        "cat_features = list(range(0, X_o.shape[1]))\n",
        "print(cat_features)"
      ],
      "execution_count": 19,
      "outputs": [
        {
          "output_type": "stream",
          "name": "stdout",
          "text": [
            "[0, 1, 2, 3, 4, 5, 6, 7, 8, 9, 10, 11, 12]\n"
          ]
        }
      ]
    },
    {
      "cell_type": "markdown",
      "metadata": {
        "id": "5zJ0evepU79e"
      },
      "source": [
        "### CatBoost Classifer"
      ]
    },
    {
      "cell_type": "code",
      "metadata": {
        "colab": {
          "base_uri": "https://localhost:8080/"
        },
        "id": "Rc9KpUe904j-",
        "outputId": "10f301f1-8c78-46e8-f4f6-288d0b72137d"
      },
      "source": [
        "## Run CatBoost Classifier\n",
        "model = CatBoostClassifier(iterations=200, learning_rate=0.05, random_seed=1, loss_function=\"Logloss\")\n",
        "model.fit(X_o_train, y_o_train,\n",
        "          cat_features=cat_features,\n",
        "          eval_set=(X_o_test, y_o_test), \n",
        "          verbose=50)\n"
      ],
      "execution_count": 20,
      "outputs": [
        {
          "output_type": "stream",
          "name": "stdout",
          "text": [
            "0:\tlearn: 0.5951981\ttest: 0.5971251\tbest: 0.5971251 (0)\ttotal: 56.3ms\tremaining: 11.2s\n",
            "50:\tlearn: 0.1033053\ttest: 0.1137295\tbest: 0.1137295 (50)\ttotal: 261ms\tremaining: 764ms\n",
            "100:\tlearn: 0.0902052\ttest: 0.1093486\tbest: 0.1093486 (100)\ttotal: 496ms\tremaining: 486ms\n",
            "150:\tlearn: 0.0824670\ttest: 0.1075870\tbest: 0.1074648 (149)\ttotal: 728ms\tremaining: 236ms\n",
            "199:\tlearn: 0.0750012\ttest: 0.1079517\tbest: 0.1074648 (149)\ttotal: 991ms\tremaining: 0us\n",
            "\n",
            "bestTest = 0.1074648005\n",
            "bestIteration = 149\n",
            "\n",
            "Shrink model to first 150 iterations.\n"
          ]
        },
        {
          "output_type": "execute_result",
          "data": {
            "text/plain": [
              "<catboost.core.CatBoostClassifier at 0x7f63fddcce50>"
            ]
          },
          "metadata": {},
          "execution_count": 20
        }
      ]
    },
    {
      "cell_type": "code",
      "metadata": {
        "colab": {
          "base_uri": "https://localhost:8080/"
        },
        "id": "t3IKQ-51x21U",
        "outputId": "eaffdf66-8ef4-476f-9b8b-1ffd1d2f286a"
      },
      "source": [
        "## Check performance\n",
        "model.predict_proba(X_o_train)\n",
        "\n",
        "# How many unique predictions are there?\n",
        "list(set(model.predict(data=X_o_test)))"
      ],
      "execution_count": 21,
      "outputs": [
        {
          "output_type": "execute_result",
          "data": {
            "text/plain": [
              "['No']"
            ]
          },
          "metadata": {},
          "execution_count": 21
        }
      ]
    },
    {
      "cell_type": "code",
      "metadata": {
        "colab": {
          "base_uri": "https://localhost:8080/"
        },
        "id": "sgoZNrrrauEb",
        "outputId": "0216c2e9-40f0-4e93-8d9f-a4f1f56c5f20"
      },
      "source": [
        "## Check performance: accuracy score\n",
        "train_score = accuracy_score(y_o_train, model.predict(X_o_train)) * 100\n",
        "test_score  = accuracy_score(y_o_test,  model.predict(X_o_test))  * 100\n",
        "\n",
        "print(\"Training accuracy score: {}\".format(train_score))\n",
        "print(\"Test accuracy score: {}\".format(test_score))"
      ],
      "execution_count": 22,
      "outputs": [
        {
          "output_type": "stream",
          "name": "stdout",
          "text": [
            "Training accuracy score: 97.18409010911651\n",
            "Test accuracy score: 97.04329461457233\n"
          ]
        }
      ]
    },
    {
      "cell_type": "code",
      "metadata": {
        "colab": {
          "base_uri": "https://localhost:8080/",
          "height": 422
        },
        "id": "h64uimFwa2e1",
        "outputId": "68313a20-880a-498a-8f0d-20ceab9f15b3"
      },
      "source": [
        "## Check performance: ROC curve\n",
        "plot_roc_curve(model, X_o_test, y_o_test)"
      ],
      "execution_count": 23,
      "outputs": [
        {
          "output_type": "stream",
          "name": "stderr",
          "text": [
            "/usr/local/lib/python3.7/dist-packages/sklearn/utils/deprecation.py:87: FutureWarning: Function plot_roc_curve is deprecated; Function `plot_roc_curve` is deprecated in 1.0 and will be removed in 1.2. Use one of the class methods: RocCurveDisplay.from_predictions or RocCurveDisplay.from_estimator.\n",
            "  warnings.warn(msg, category=FutureWarning)\n"
          ]
        },
        {
          "output_type": "execute_result",
          "data": {
            "text/plain": [
              "<sklearn.metrics._plot.roc_curve.RocCurveDisplay at 0x7f63fdefec10>"
            ]
          },
          "metadata": {},
          "execution_count": 23
        },
        {
          "output_type": "display_data",
          "data": {
            "image/png": "[encoded data removed]",
            "text/plain": [
              "<Figure size 432x288 with 1 Axes>"
            ]
          },
          "metadata": {}
        }
      ]
    },
    {
      "cell_type": "code",
      "metadata": {
        "colab": {
          "base_uri": "https://localhost:8080/",
          "height": 370
        },
        "id": "NF3SP1oZa3NK",
        "outputId": "43033072-a987-4398-fa4a-af132ebda889"
      },
      "source": [
        "## Check performance: Confusion matrix\n",
        "plot_confusion_matrix(model, X_o_test, y_o_test)"
      ],
      "execution_count": 24,
      "outputs": [
        {
          "output_type": "stream",
          "name": "stderr",
          "text": [
            "/usr/local/lib/python3.7/dist-packages/sklearn/utils/deprecation.py:87: FutureWarning: Function plot_confusion_matrix is deprecated; Function `plot_confusion_matrix` is deprecated in 1.0 and will be removed in 1.2. Use one of the class methods: ConfusionMatrixDisplay.from_predictions or ConfusionMatrixDisplay.from_estimator.\n",
            "  warnings.warn(msg, category=FutureWarning)\n"
          ]
        },
        {
          "output_type": "execute_result",
          "data": {
            "text/plain": [
              "<sklearn.metrics._plot.confusion_matrix.ConfusionMatrixDisplay at 0x7f63fde8b790>"
            ]
          },
          "metadata": {},
          "execution_count": 24
        },
        {
          "output_type": "display_data",
          "data": {
            "image/png": "[encoded data removed]",
            "text/plain": [
              "<Figure size 432x288 with 2 Axes>"
            ]
          },
          "metadata": {}
        }
      ]
    },
    {
      "cell_type": "code",
      "metadata": {
        "colab": {
          "base_uri": "https://localhost:8080/"
        },
        "id": "SAYMcFisbS7X",
        "outputId": "a0c78d08-76a8-4877-b52b-0698740e79a6"
      },
      "source": [
        "## Check performance: Classification report\n",
        "print(classification_report(y_o_test, model.predict(X_o_test)))"
      ],
      "execution_count": 25,
      "outputs": [
        {
          "output_type": "stream",
          "name": "stdout",
          "text": [
            "              precision    recall  f1-score   support\n",
            "\n",
            "          No       0.97      1.00      0.98       919\n",
            "         Yes       0.00      0.00      0.00        28\n",
            "\n",
            "    accuracy                           0.97       947\n",
            "   macro avg       0.49      0.50      0.49       947\n",
            "weighted avg       0.94      0.97      0.96       947\n",
            "\n"
          ]
        },
        {
          "output_type": "stream",
          "name": "stderr",
          "text": [
            "/usr/local/lib/python3.7/dist-packages/sklearn/metrics/_classification.py:1308: UndefinedMetricWarning: Precision and F-score are ill-defined and being set to 0.0 in labels with no predicted samples. Use `zero_division` parameter to control this behavior.\n",
            "  _warn_prf(average, modifier, msg_start, len(result))\n",
            "/usr/local/lib/python3.7/dist-packages/sklearn/metrics/_classification.py:1308: UndefinedMetricWarning: Precision and F-score are ill-defined and being set to 0.0 in labels with no predicted samples. Use `zero_division` parameter to control this behavior.\n",
            "  _warn_prf(average, modifier, msg_start, len(result))\n",
            "/usr/local/lib/python3.7/dist-packages/sklearn/metrics/_classification.py:1308: UndefinedMetricWarning: Precision and F-score are ill-defined and being set to 0.0 in labels with no predicted samples. Use `zero_division` parameter to control this behavior.\n",
            "  _warn_prf(average, modifier, msg_start, len(result))\n"
          ]
        }
      ]
    },
    {
      "cell_type": "code",
      "metadata": {
        "colab": {
          "base_uri": "https://localhost:8080/",
          "height": 457
        },
        "id": "btorJmtLCvdD",
        "outputId": "b30c11af-60a1-420b-91db-752d2c571b1d"
      },
      "source": [
        "## Check performance: Feature importance\n",
        "model.get_feature_importance(prettified=True)"
      ],
      "execution_count": 26,
      "outputs": [
        {
          "output_type": "execute_result",
          "data": {
            "text/html": [
              "<div>\n",
              "<style scoped>\n",
              "    .dataframe tbody tr th:only-of-type {\n",
              "        vertical-align: middle;\n",
              "    }\n",
              "\n",
              "    .dataframe tbody tr th {\n",
              "        vertical-align: top;\n",
              "    }\n",
              "\n",
              "    .dataframe thead th {\n",
              "        text-align: right;\n",
              "    }\n",
              "</style>\n",
              "<table border=\"1\" class=\"dataframe\">\n",
              "  <thead>\n",
              "    <tr style=\"text-align: right;\">\n",
              "      <th></th>\n",
              "      <th>Feature Id</th>\n",
              "      <th>Importances</th>\n",
              "    </tr>\n",
              "  </thead>\n",
              "  <tbody>\n",
              "    <tr>\n",
              "      <th>0</th>\n",
              "      <td>blood.pressure</td>\n",
              "      <td>18.411013</td>\n",
              "    </tr>\n",
              "    <tr>\n",
              "      <th>1</th>\n",
              "      <td>age</td>\n",
              "      <td>18.359884</td>\n",
              "    </tr>\n",
              "    <tr>\n",
              "      <th>2</th>\n",
              "      <td>gender</td>\n",
              "      <td>16.337261</td>\n",
              "    </tr>\n",
              "    <tr>\n",
              "      <th>3</th>\n",
              "      <td>smoke</td>\n",
              "      <td>11.925798</td>\n",
              "    </tr>\n",
              "    <tr>\n",
              "      <th>4</th>\n",
              "      <td>covered.health</td>\n",
              "      <td>8.770221</td>\n",
              "    </tr>\n",
              "    <tr>\n",
              "      <th>5</th>\n",
              "      <td>physical.activity</td>\n",
              "      <td>6.139299</td>\n",
              "    </tr>\n",
              "    <tr>\n",
              "      <th>6</th>\n",
              "      <td>healthy.diet</td>\n",
              "      <td>6.104310</td>\n",
              "    </tr>\n",
              "    <tr>\n",
              "      <th>7</th>\n",
              "      <td>education</td>\n",
              "      <td>4.120673</td>\n",
              "    </tr>\n",
              "    <tr>\n",
              "      <th>8</th>\n",
              "      <td>marriage</td>\n",
              "      <td>3.410876</td>\n",
              "    </tr>\n",
              "    <tr>\n",
              "      <th>9</th>\n",
              "      <td>bmi</td>\n",
              "      <td>2.475476</td>\n",
              "    </tr>\n",
              "    <tr>\n",
              "      <th>10</th>\n",
              "      <td>diabetes</td>\n",
              "      <td>1.775250</td>\n",
              "    </tr>\n",
              "    <tr>\n",
              "      <th>11</th>\n",
              "      <td>arthritis.type</td>\n",
              "      <td>1.597962</td>\n",
              "    </tr>\n",
              "    <tr>\n",
              "      <th>12</th>\n",
              "      <td>medical.access</td>\n",
              "      <td>0.571978</td>\n",
              "    </tr>\n",
              "  </tbody>\n",
              "</table>\n",
              "</div>"
            ],
            "text/plain": [
              "           Feature Id  Importances\n",
              "0      blood.pressure    18.411013\n",
              "1                 age    18.359884\n",
              "2              gender    16.337261\n",
              "3               smoke    11.925798\n",
              "4      covered.health     8.770221\n",
              "5   physical.activity     6.139299\n",
              "6        healthy.diet     6.104310\n",
              "7           education     4.120673\n",
              "8            marriage     3.410876\n",
              "9                 bmi     2.475476\n",
              "10           diabetes     1.775250\n",
              "11     arthritis.type     1.597962\n",
              "12     medical.access     0.571978"
            ]
          },
          "metadata": {},
          "execution_count": 26
        }
      ]
    },
    {
      "cell_type": "markdown",
      "metadata": {
        "id": "H3NgUuqx893u"
      },
      "source": [
        "### Model evaluation\n",
        "\n",
        "It looks like our CatBoost model performs very similarly to our simple logistic regression. Again, age and bloodpressure are the best predictors of HA. Again, it seems like our model always (100% of the cases) predicts the sample to NOT have a heart attack. This leads to the same high accuracy (97%) since there are a lot of true negatives, and in our confusion matrix we again see that the model has zero true positives. \n",
        "This would make also this model a bad model, as it is not able to predict HA succesfully.\n",
        "\n",
        "As mentioned before, we should perhaps better weight the outcome variable due to the class imbalance. Let's have a look if that helps us!\n",
        "\n",
        "\n"
      ]
    },
    {
      "cell_type": "markdown",
      "metadata": {
        "id": "PZyfRfW6OrA8"
      },
      "source": [
        "## Part 4.2: Let's try to increase performance using weights\n",
        "\n",
        "Given the major class imbalance, let's see if the performance increases of we add weights. We will weight the \"no HA\" values with a low weight and the \"HA\" values with a higher weight. \n",
        "\n",
        "\n"
      ]
    },
    {
      "cell_type": "code",
      "metadata": {
        "id": "8lx7GBNBNggx",
        "colab": {
          "base_uri": "https://localhost:8080/",
          "height": 772
        },
        "outputId": "f30f613d-1d45-4678-9a43-90e9a420cae8"
      },
      "source": [
        "## Run CatBoost Classifier\n",
        "model = CatBoostClassifier(iterations=200, learning_rate=0.05, random_seed=1, loss_function=\"Logloss\", class_weights=[0.1, 0.9])\n",
        "model.fit(X_o_train, y_o_train,\n",
        "          cat_features=cat_features,\n",
        "          eval_set=(X_o_test, y_o_test),\n",
        "          verbose = False)\n",
        "\n",
        "## Check performance\n",
        "model.predict_proba(X_o_train)\n",
        "\n",
        "# How many unique predictions are there?\n",
        "list(set(model.predict(data=X_o_test)))\n",
        "## Check performance: accuracy score\n",
        "train_score = accuracy_score(y_o_train, model.predict(X_o_train)) * 100\n",
        "test_score  = accuracy_score(y_o_test,  model.predict(X_o_test))  * 100\n",
        "\n",
        "print(\"Training accuracy score: {}\".format(train_score))\n",
        "print(\"Test accuracy score: {}\".format(test_score))\n",
        "\n",
        "## Check performance: ROC curve\n",
        "plot_roc_curve(model, X_o_test, y_o_test)\n",
        "\n",
        "## Check performance: Confusion matrix\n",
        "plot_confusion_matrix(model, X_o_test, y_o_test)\n"
      ],
      "execution_count": 27,
      "outputs": [
        {
          "output_type": "stream",
          "name": "stdout",
          "text": [
            "Training accuracy score: 95.74093629003872\n",
            "Test accuracy score: 94.50897571277719\n"
          ]
        },
        {
          "output_type": "stream",
          "name": "stderr",
          "text": [
            "/usr/local/lib/python3.7/dist-packages/sklearn/utils/deprecation.py:87: FutureWarning: Function plot_roc_curve is deprecated; Function `plot_roc_curve` is deprecated in 1.0 and will be removed in 1.2. Use one of the class methods: RocCurveDisplay.from_predictions or RocCurveDisplay.from_estimator.\n",
            "  warnings.warn(msg, category=FutureWarning)\n",
            "/usr/local/lib/python3.7/dist-packages/sklearn/utils/deprecation.py:87: FutureWarning: Function plot_confusion_matrix is deprecated; Function `plot_confusion_matrix` is deprecated in 1.0 and will be removed in 1.2. Use one of the class methods: ConfusionMatrixDisplay.from_predictions or ConfusionMatrixDisplay.from_estimator.\n",
            "  warnings.warn(msg, category=FutureWarning)\n"
          ]
        },
        {
          "output_type": "execute_result",
          "data": {
            "text/plain": [
              "<sklearn.metrics._plot.confusion_matrix.ConfusionMatrixDisplay at 0x7f64094d14d0>"
            ]
          },
          "metadata": {},
          "execution_count": 27
        },
        {
          "output_type": "display_data",
          "data": {
            "image/png": "[encoded data removed]",
            "text/plain": [
              "<Figure size 432x288 with 1 Axes>"
            ]
          },
          "metadata": {}
        },
        {
          "output_type": "display_data",
          "data": {
            "image/png": "[encoded data removed]",
            "text/plain": [
              "<Figure size 432x288 with 2 Axes>"
            ]
          },
          "metadata": {}
        }
      ]
    },
    {
      "cell_type": "code",
      "metadata": {
        "id": "NEqDsTGgOKH0",
        "colab": {
          "base_uri": "https://localhost:8080/"
        },
        "outputId": "a252d90f-bf72-43e5-9094-85fe7c32f3ec"
      },
      "source": [
        "## Check performance: Classification report\n",
        "print(classification_report(y_o_test, model.predict(X_o_test)))\n"
      ],
      "execution_count": 28,
      "outputs": [
        {
          "output_type": "stream",
          "name": "stdout",
          "text": [
            "              precision    recall  f1-score   support\n",
            "\n",
            "          No       0.98      0.96      0.97       919\n",
            "         Yes       0.21      0.32      0.26        28\n",
            "\n",
            "    accuracy                           0.95       947\n",
            "   macro avg       0.60      0.64      0.61       947\n",
            "weighted avg       0.96      0.95      0.95       947\n",
            "\n"
          ]
        }
      ]
    },
    {
      "cell_type": "code",
      "metadata": {
        "colab": {
          "base_uri": "https://localhost:8080/",
          "height": 457
        },
        "id": "i4VYOSBFOD7c",
        "outputId": "cba286ce-484a-4042-e686-63e6a4279445"
      },
      "source": [
        "## Check performance: Feature importance\n",
        "model.get_feature_importance(prettified=True)"
      ],
      "execution_count": 29,
      "outputs": [
        {
          "output_type": "execute_result",
          "data": {
            "text/html": [
              "<div>\n",
              "<style scoped>\n",
              "    .dataframe tbody tr th:only-of-type {\n",
              "        vertical-align: middle;\n",
              "    }\n",
              "\n",
              "    .dataframe tbody tr th {\n",
              "        vertical-align: top;\n",
              "    }\n",
              "\n",
              "    .dataframe thead th {\n",
              "        text-align: right;\n",
              "    }\n",
              "</style>\n",
              "<table border=\"1\" class=\"dataframe\">\n",
              "  <thead>\n",
              "    <tr style=\"text-align: right;\">\n",
              "      <th></th>\n",
              "      <th>Feature Id</th>\n",
              "      <th>Importances</th>\n",
              "    </tr>\n",
              "  </thead>\n",
              "  <tbody>\n",
              "    <tr>\n",
              "      <th>0</th>\n",
              "      <td>blood.pressure</td>\n",
              "      <td>16.899662</td>\n",
              "    </tr>\n",
              "    <tr>\n",
              "      <th>1</th>\n",
              "      <td>age</td>\n",
              "      <td>15.498080</td>\n",
              "    </tr>\n",
              "    <tr>\n",
              "      <th>2</th>\n",
              "      <td>gender</td>\n",
              "      <td>15.422741</td>\n",
              "    </tr>\n",
              "    <tr>\n",
              "      <th>3</th>\n",
              "      <td>smoke</td>\n",
              "      <td>14.447575</td>\n",
              "    </tr>\n",
              "    <tr>\n",
              "      <th>4</th>\n",
              "      <td>covered.health</td>\n",
              "      <td>6.623553</td>\n",
              "    </tr>\n",
              "    <tr>\n",
              "      <th>5</th>\n",
              "      <td>healthy.diet</td>\n",
              "      <td>6.024986</td>\n",
              "    </tr>\n",
              "    <tr>\n",
              "      <th>6</th>\n",
              "      <td>physical.activity</td>\n",
              "      <td>5.939705</td>\n",
              "    </tr>\n",
              "    <tr>\n",
              "      <th>7</th>\n",
              "      <td>education</td>\n",
              "      <td>5.416956</td>\n",
              "    </tr>\n",
              "    <tr>\n",
              "      <th>8</th>\n",
              "      <td>marriage</td>\n",
              "      <td>5.158483</td>\n",
              "    </tr>\n",
              "    <tr>\n",
              "      <th>9</th>\n",
              "      <td>bmi</td>\n",
              "      <td>3.144068</td>\n",
              "    </tr>\n",
              "    <tr>\n",
              "      <th>10</th>\n",
              "      <td>medical.access</td>\n",
              "      <td>2.977579</td>\n",
              "    </tr>\n",
              "    <tr>\n",
              "      <th>11</th>\n",
              "      <td>diabetes</td>\n",
              "      <td>1.650058</td>\n",
              "    </tr>\n",
              "    <tr>\n",
              "      <th>12</th>\n",
              "      <td>arthritis.type</td>\n",
              "      <td>0.796553</td>\n",
              "    </tr>\n",
              "  </tbody>\n",
              "</table>\n",
              "</div>"
            ],
            "text/plain": [
              "           Feature Id  Importances\n",
              "0      blood.pressure    16.899662\n",
              "1                 age    15.498080\n",
              "2              gender    15.422741\n",
              "3               smoke    14.447575\n",
              "4      covered.health     6.623553\n",
              "5        healthy.diet     6.024986\n",
              "6   physical.activity     5.939705\n",
              "7           education     5.416956\n",
              "8            marriage     5.158483\n",
              "9                 bmi     3.144068\n",
              "10     medical.access     2.977579\n",
              "11           diabetes     1.650058\n",
              "12     arthritis.type     0.796553"
            ]
          },
          "metadata": {},
          "execution_count": 29
        }
      ]
    },
    {
      "cell_type": "markdown",
      "metadata": {
        "id": "C-4q8JKpQE1c"
      },
      "source": [
        "### Model evaluation\n",
        "\n",
        "It looks like the model performs a bit more natural after adding the weights. As expected, the accuracy will be lower since we will have more predictions for HA, leading to more false positives. \n",
        "The main difference is that this model now has some true positives, which is more fitting to the truth. \n",
        "\n",
        "Ultimately, more techniques should be used to optimise the model and finetune the parameters such as adjusting learning rate, number of trees, tree depth etc. using for example grid search. \n",
        "\n",
        "\n"
      ]
    },
    {
      "cell_type": "markdown",
      "metadata": {
        "id": "MQbOGQVfRPlk"
      },
      "source": [
        "## Part 5:\tIs Rheumatoid arthritis a good predictor for heart attack? Are there other confounders that cloud the predictive power of the feature? How could we find them?\n",
        "\n",
        "From our initial feature importance measurements we can deduce that arthritis is not a very good predictor for HA. \n",
        "However, this alone cannot tell us if this is the true predictive power of arthritis on HA. \n",
        "We can imagine that mostly older individuals will have arthritis, therefore we could expect this variable to be potentially highly correlated to age and thus overlapping variance could already be explained by age. In continous variables we would speak of multicollinearity, but since categorical features cannot be linearly related, we check for independence between our variables. \n",
        "In other words, the variable arthritis can be correlated to other predictors. Even though we could potentially find a high predictive power for our model, if our predictor variables are not independent, statistically, we cannot conclude that individually the predictors have an effect on the outcome measurement. We cannot really tell the individual contribution of the related variables.\n",
        "\n",
        "Let's test for independence in our variables by calculating chi-square value to see if the variables are related.\n"
      ]
    },
    {
      "cell_type": "code",
      "metadata": {
        "id": "m4fTmv817dSX"
      },
      "source": [
        "CrosstabResult=pd.crosstab(index=data['arthritis.type'],columns=data['age_1'])\n",
        "print(CrosstabResult)\n",
        "\n",
        "# Performing Chi-sq test\n",
        "ChiSqResult = chi2_contingency(CrosstabResult)\n",
        "print('The P-Value of the ChiSq Test is:', float(ChiSqResult[1]))\n",
        "\n",
        "for cols in data:\n",
        "    nl = \"\\n\"\n",
        "\n",
        "    ## Build crosstab between arthritis and all other variables\n",
        "    crosstab = pd.crosstab(data[f\"{cols}\"], data['arthritis.type'])\n",
        "    print(crosstab, nl)\n",
        "    chi2, p, dof, expected = chi2_contingency(crosstab)\n",
        "    print(f\"Chi2 value= {chi2}{nl}p-value= {p}{nl}Degrees of freedom= {dof}{nl}\")\n"
      ],
      "execution_count": null,
      "outputs": []
    },
    {
      "cell_type": "markdown",
      "metadata": {
        "id": "oVjv-yM6BwAJ"
      },
      "source": [
        "It looks like arthritis is related to age as expected. We find however that more variables are related to arthritis as well. This could cloud the predictive power of arthritis. A solution to this problem would be to reduce the amount of dimension. One could use PCA or factor analysis methods to find the main dimensions/components/factors contribute to the predictive power of the model.\n",
        "  "
      ]
    }
  ]
}