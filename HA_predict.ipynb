{
  "nbformat": 4,
  "nbformat_minor": 0,
  "metadata": {
    "colab": {
      "name": "HA_predict.ipynb",
      "provenance": [],
      "collapsed_sections": [],
      "mount_file_id": "1z_m_0sjT1GExBq4f9B44hjD90IZiVsY-",
      "authorship_tag": "ABX9TyNSQBfX5VtGgG7sH1oQY6ab",
      "include_colab_link": true
    },
    "kernelspec": {
      "name": "python3",
      "display_name": "Python 3"
    },
    "language_info": {
      "name": "python"
    }
  },
  "cells": [
    {
      "cell_type": "markdown",
      "metadata": {
        "id": "view-in-github",
        "colab_type": "text"
      },
      "source": [
        "<a href=\"https://colab.research.google.com/github/leonorebovy/heart_attack_predict_ingef/blob/main/HA_predict.ipynb\" target=\"_parent\"><img src=\"https://colab.research.google.com/assets/colab-badge.svg\" alt=\"Open In Colab\"/></a>"
      ]
    },
    {
      "cell_type": "markdown",
      "metadata": {
        "id": "H2eJpRTu3XB0"
      },
      "source": [
        "# Heart Attack Prediction\n",
        "\n",
        "### Data\n",
        "The attached data contains a survey that was collected in 2007 in the United States by the CDC, where each row describes one person.  \n",
        "\n",
        "### Exercise\n",
        "Use machine learning models on the given data to analyze causing factors for heart attack. \n",
        "\n",
        "\n",
        "\n",
        "\n",
        "\n",
        "`Author: Leonore Bovy`\n"
      ]
    },
    {
      "cell_type": "markdown",
      "metadata": {
        "id": "vyW8szER3c8C"
      },
      "source": [
        "## Part 0: Data exploration and prep"
      ]
    },
    {
      "cell_type": "code",
      "metadata": {
        "id": "y8i2Vpq8z5Vt",
        "colab": {
          "base_uri": "https://localhost:8080/"
        },
        "outputId": "b784fd7d-773e-4fe6-fe39-8273cddb7b01"
      },
      "source": [
        "## Import modules\n",
        "import numpy as np # linear algebra\n",
        "import pandas as pd\n",
        "import numpy as np\n",
        "import copy\n",
        "import math\n",
        "import statsmodels.api as sm\n",
        "\n",
        "# Data viz\n",
        "import matplotlib.pyplot as plt\n",
        "import seaborn as sns\n",
        "\n",
        "# Model building\n",
        "from sklearn.model_selection import train_test_split\n",
        "from sklearn.metrics import log_loss, roc_auc_score, recall_score, precision_score, average_precision_score, f1_score, classification_report, accuracy_score, plot_roc_curve, plot_precision_recall_curve, plot_confusion_matrix\n",
        "from sklearn.linear_model import LogisticRegression\n",
        "from scipy.stats import chi2_contingency\n",
        "\n",
        "!pip install catboost\n",
        "from catboost import CatBoostClassifier"
      ],
      "execution_count": 66,
      "outputs": [
        {
          "output_type": "stream",
          "name": "stdout",
          "text": [
            "Requirement already satisfied: catboost in /usr/local/lib/python3.7/dist-packages (1.0.3)\n",
            "Requirement already satisfied: six in /usr/local/lib/python3.7/dist-packages (from catboost) (1.15.0)\n",
            "Requirement already satisfied: matplotlib in /usr/local/lib/python3.7/dist-packages (from catboost) (3.2.2)\n",
            "Requirement already satisfied: numpy>=1.16.0 in /usr/local/lib/python3.7/dist-packages (from catboost) (1.19.5)\n",
            "Requirement already satisfied: plotly in /usr/local/lib/python3.7/dist-packages (from catboost) (4.4.1)\n",
            "Requirement already satisfied: graphviz in /usr/local/lib/python3.7/dist-packages (from catboost) (0.10.1)\n",
            "Requirement already satisfied: pandas>=0.24.0 in /usr/local/lib/python3.7/dist-packages (from catboost) (1.1.5)\n",
            "Requirement already satisfied: scipy in /usr/local/lib/python3.7/dist-packages (from catboost) (1.4.1)\n",
            "Requirement already satisfied: python-dateutil>=2.7.3 in /usr/local/lib/python3.7/dist-packages (from pandas>=0.24.0->catboost) (2.8.2)\n",
            "Requirement already satisfied: pytz>=2017.2 in /usr/local/lib/python3.7/dist-packages (from pandas>=0.24.0->catboost) (2018.9)\n",
            "Requirement already satisfied: kiwisolver>=1.0.1 in /usr/local/lib/python3.7/dist-packages (from matplotlib->catboost) (1.3.2)\n",
            "Requirement already satisfied: pyparsing!=2.0.4,!=2.1.2,!=2.1.6,>=2.0.1 in /usr/local/lib/python3.7/dist-packages (from matplotlib->catboost) (2.4.7)\n",
            "Requirement already satisfied: cycler>=0.10 in /usr/local/lib/python3.7/dist-packages (from matplotlib->catboost) (0.11.0)\n",
            "Requirement already satisfied: retrying>=1.3.3 in /usr/local/lib/python3.7/dist-packages (from plotly->catboost) (1.3.3)\n"
          ]
        }
      ]
    },
    {
      "cell_type": "code",
      "metadata": {
        "id": "urAEAjiX1Lcu",
        "colab": {
          "base_uri": "https://localhost:8080/",
          "height": 478
        },
        "outputId": "91637e66-2dd2-4837-a1f2-2c9cba1d863f"
      },
      "source": [
        "## Read in the data\n",
        "# Please note that the data was loaded via google drive, change path accordingly.\n",
        "data = pd.read_csv(\"drive/My Drive/Arthritis_on_heart_attack.csv\")\n",
        "data.head()\n",
        "\n",
        "# Create a copy of original\n",
        "copy.copy(data)\n",
        "copy_orig_data = copy.copy(data)\n",
        "copy_orig_data"
      ],
      "execution_count": 67,
      "outputs": [
        {
          "output_type": "execute_result",
          "data": {
            "text/html": [
              "<div>\n",
              "<style scoped>\n",
              "    .dataframe tbody tr th:only-of-type {\n",
              "        vertical-align: middle;\n",
              "    }\n",
              "\n",
              "    .dataframe tbody tr th {\n",
              "        vertical-align: top;\n",
              "    }\n",
              "\n",
              "    .dataframe thead th {\n",
              "        text-align: right;\n",
              "    }\n",
              "</style>\n",
              "<table border=\"1\" class=\"dataframe\">\n",
              "  <thead>\n",
              "    <tr style=\"text-align: right;\">\n",
              "      <th></th>\n",
              "      <th>Unnamed: 0</th>\n",
              "      <th>arthritis.type</th>\n",
              "      <th>gender</th>\n",
              "      <th>bmi</th>\n",
              "      <th>diabetes</th>\n",
              "      <th>smoke</th>\n",
              "      <th>age</th>\n",
              "      <th>education</th>\n",
              "      <th>marriage</th>\n",
              "      <th>physical.activity</th>\n",
              "      <th>medical.access</th>\n",
              "      <th>blood.pressure</th>\n",
              "      <th>healthy.diet</th>\n",
              "      <th>covered.health</th>\n",
              "      <th>heart.attack</th>\n",
              "    </tr>\n",
              "  </thead>\n",
              "  <tbody>\n",
              "    <tr>\n",
              "      <th>0</th>\n",
              "      <td>1</td>\n",
              "      <td>Non-arthritis</td>\n",
              "      <td>Male</td>\n",
              "      <td>(25,80]</td>\n",
              "      <td>No</td>\n",
              "      <td>No</td>\n",
              "      <td>(50,70]</td>\n",
              "      <td>School</td>\n",
              "      <td>Married</td>\n",
              "      <td>Moderate</td>\n",
              "      <td>Yes</td>\n",
              "      <td>No</td>\n",
              "      <td>Fair</td>\n",
              "      <td>No</td>\n",
              "      <td>No</td>\n",
              "    </tr>\n",
              "    <tr>\n",
              "      <th>1</th>\n",
              "      <td>2</td>\n",
              "      <td>Non-arthritis</td>\n",
              "      <td>Male</td>\n",
              "      <td>(0,25]</td>\n",
              "      <td>No</td>\n",
              "      <td>No</td>\n",
              "      <td>(19.9,50]</td>\n",
              "      <td>High.School</td>\n",
              "      <td>Not.married</td>\n",
              "      <td>No</td>\n",
              "      <td>Yes</td>\n",
              "      <td>No</td>\n",
              "      <td>Good</td>\n",
              "      <td>No</td>\n",
              "      <td>No</td>\n",
              "    </tr>\n",
              "    <tr>\n",
              "      <th>2</th>\n",
              "      <td>3</td>\n",
              "      <td>Non-arthritis</td>\n",
              "      <td>Male</td>\n",
              "      <td>(25,80]</td>\n",
              "      <td>No</td>\n",
              "      <td>Yes</td>\n",
              "      <td>(50,70]</td>\n",
              "      <td>High.School</td>\n",
              "      <td>Married</td>\n",
              "      <td>No</td>\n",
              "      <td>Yes</td>\n",
              "      <td>Yes</td>\n",
              "      <td>Good</td>\n",
              "      <td>Yes</td>\n",
              "      <td>No</td>\n",
              "    </tr>\n",
              "    <tr>\n",
              "      <th>3</th>\n",
              "      <td>4</td>\n",
              "      <td>Rheumatoid arthritis</td>\n",
              "      <td>Male</td>\n",
              "      <td>(25,80]</td>\n",
              "      <td>Yes</td>\n",
              "      <td>No</td>\n",
              "      <td>(50,70]</td>\n",
              "      <td>College</td>\n",
              "      <td>Married</td>\n",
              "      <td>No</td>\n",
              "      <td>Yes</td>\n",
              "      <td>Yes</td>\n",
              "      <td>Poor</td>\n",
              "      <td>Yes</td>\n",
              "      <td>No</td>\n",
              "    </tr>\n",
              "    <tr>\n",
              "      <th>4</th>\n",
              "      <td>5</td>\n",
              "      <td>Non-arthritis</td>\n",
              "      <td>Female</td>\n",
              "      <td>(25,80]</td>\n",
              "      <td>No</td>\n",
              "      <td>No</td>\n",
              "      <td>(19.9,50]</td>\n",
              "      <td>High.School</td>\n",
              "      <td>Married</td>\n",
              "      <td>Moderate</td>\n",
              "      <td>No</td>\n",
              "      <td>No</td>\n",
              "      <td>Fair</td>\n",
              "      <td>No</td>\n",
              "      <td>No</td>\n",
              "    </tr>\n",
              "    <tr>\n",
              "      <th>...</th>\n",
              "      <td>...</td>\n",
              "      <td>...</td>\n",
              "      <td>...</td>\n",
              "      <td>...</td>\n",
              "      <td>...</td>\n",
              "      <td>...</td>\n",
              "      <td>...</td>\n",
              "      <td>...</td>\n",
              "      <td>...</td>\n",
              "      <td>...</td>\n",
              "      <td>...</td>\n",
              "      <td>...</td>\n",
              "      <td>...</td>\n",
              "      <td>...</td>\n",
              "      <td>...</td>\n",
              "    </tr>\n",
              "    <tr>\n",
              "      <th>3783</th>\n",
              "      <td>3784</td>\n",
              "      <td>Non-arthritis</td>\n",
              "      <td>Male</td>\n",
              "      <td>(25,80]</td>\n",
              "      <td>Yes</td>\n",
              "      <td>Yes</td>\n",
              "      <td>(50,70]</td>\n",
              "      <td>High.School</td>\n",
              "      <td>Married</td>\n",
              "      <td>No</td>\n",
              "      <td>Yes</td>\n",
              "      <td>Yes</td>\n",
              "      <td>Good</td>\n",
              "      <td>Yes</td>\n",
              "      <td>No</td>\n",
              "    </tr>\n",
              "    <tr>\n",
              "      <th>3784</th>\n",
              "      <td>3785</td>\n",
              "      <td>Non-arthritis</td>\n",
              "      <td>Male</td>\n",
              "      <td>(25,80]</td>\n",
              "      <td>No</td>\n",
              "      <td>No</td>\n",
              "      <td>(19.9,50]</td>\n",
              "      <td>College</td>\n",
              "      <td>Married</td>\n",
              "      <td>No</td>\n",
              "      <td>Yes</td>\n",
              "      <td>No</td>\n",
              "      <td>Fair</td>\n",
              "      <td>Yes</td>\n",
              "      <td>No</td>\n",
              "    </tr>\n",
              "    <tr>\n",
              "      <th>3785</th>\n",
              "      <td>3786</td>\n",
              "      <td>Non-arthritis</td>\n",
              "      <td>Male</td>\n",
              "      <td>(25,80]</td>\n",
              "      <td>No</td>\n",
              "      <td>Yes</td>\n",
              "      <td>(50,70]</td>\n",
              "      <td>School</td>\n",
              "      <td>Married</td>\n",
              "      <td>High</td>\n",
              "      <td>Yes</td>\n",
              "      <td>Yes</td>\n",
              "      <td>Poor</td>\n",
              "      <td>No</td>\n",
              "      <td>No</td>\n",
              "    </tr>\n",
              "    <tr>\n",
              "      <th>3786</th>\n",
              "      <td>3787</td>\n",
              "      <td>Non-arthritis</td>\n",
              "      <td>Female</td>\n",
              "      <td>(25,80]</td>\n",
              "      <td>No</td>\n",
              "      <td>Yes</td>\n",
              "      <td>(19.9,50]</td>\n",
              "      <td>High.School</td>\n",
              "      <td>Married</td>\n",
              "      <td>High</td>\n",
              "      <td>No</td>\n",
              "      <td>No</td>\n",
              "      <td>Good</td>\n",
              "      <td>Yes</td>\n",
              "      <td>No</td>\n",
              "    </tr>\n",
              "    <tr>\n",
              "      <th>3787</th>\n",
              "      <td>3788</td>\n",
              "      <td>Non-arthritis</td>\n",
              "      <td>Male</td>\n",
              "      <td>(25,80]</td>\n",
              "      <td>No</td>\n",
              "      <td>Yes</td>\n",
              "      <td>(70,81]</td>\n",
              "      <td>School</td>\n",
              "      <td>Not.married</td>\n",
              "      <td>No</td>\n",
              "      <td>Yes</td>\n",
              "      <td>No</td>\n",
              "      <td>Good</td>\n",
              "      <td>Yes</td>\n",
              "      <td>Yes</td>\n",
              "    </tr>\n",
              "  </tbody>\n",
              "</table>\n",
              "<p>3788 rows × 15 columns</p>\n",
              "</div>"
            ],
            "text/plain": [
              "      Unnamed: 0        arthritis.type  ... covered.health heart.attack\n",
              "0              1         Non-arthritis  ...             No           No\n",
              "1              2         Non-arthritis  ...             No           No\n",
              "2              3         Non-arthritis  ...            Yes           No\n",
              "3              4  Rheumatoid arthritis  ...            Yes           No\n",
              "4              5         Non-arthritis  ...             No           No\n",
              "...          ...                   ...  ...            ...          ...\n",
              "3783        3784         Non-arthritis  ...            Yes           No\n",
              "3784        3785         Non-arthritis  ...            Yes           No\n",
              "3785        3786         Non-arthritis  ...             No           No\n",
              "3786        3787         Non-arthritis  ...            Yes           No\n",
              "3787        3788         Non-arthritis  ...            Yes          Yes\n",
              "\n",
              "[3788 rows x 15 columns]"
            ]
          },
          "metadata": {},
          "execution_count": 67
        }
      ]
    },
    {
      "cell_type": "code",
      "metadata": {
        "id": "ycUtjHDR4DgY",
        "colab": {
          "base_uri": "https://localhost:8080/"
        },
        "outputId": "6b9881af-ab7e-40e5-e996-070beb51a096"
      },
      "source": [
        "## Data exploration\n",
        "# Check for data types \n",
        "data.info()\n",
        "data.describe()\n",
        "\n",
        "# How many have heart attack?\n",
        "data['heart.attack'].value_counts()\n",
        "\n",
        "# Checking for missing values\n",
        "data.isna().sum()"
      ],
      "execution_count": 68,
      "outputs": [
        {
          "output_type": "stream",
          "name": "stdout",
          "text": [
            "<class 'pandas.core.frame.DataFrame'>\n",
            "RangeIndex: 3788 entries, 0 to 3787\n",
            "Data columns (total 15 columns):\n",
            " #   Column             Non-Null Count  Dtype \n",
            "---  ------             --------------  ----- \n",
            " 0   Unnamed: 0         3788 non-null   int64 \n",
            " 1   arthritis.type     3788 non-null   object\n",
            " 2   gender             3788 non-null   object\n",
            " 3   bmi                3788 non-null   object\n",
            " 4   diabetes           3788 non-null   object\n",
            " 5   smoke              3788 non-null   object\n",
            " 6   age                3788 non-null   object\n",
            " 7   education          3788 non-null   object\n",
            " 8   marriage           3788 non-null   object\n",
            " 9   physical.activity  3788 non-null   object\n",
            " 10  medical.access     3788 non-null   object\n",
            " 11  blood.pressure     3788 non-null   object\n",
            " 12  healthy.diet       3788 non-null   object\n",
            " 13  covered.health     3788 non-null   object\n",
            " 14  heart.attack       3788 non-null   object\n",
            "dtypes: int64(1), object(14)\n",
            "memory usage: 444.0+ KB\n"
          ]
        },
        {
          "output_type": "execute_result",
          "data": {
            "text/plain": [
              "Unnamed: 0           0\n",
              "arthritis.type       0\n",
              "gender               0\n",
              "bmi                  0\n",
              "diabetes             0\n",
              "smoke                0\n",
              "age                  0\n",
              "education            0\n",
              "marriage             0\n",
              "physical.activity    0\n",
              "medical.access       0\n",
              "blood.pressure       0\n",
              "healthy.diet         0\n",
              "covered.health       0\n",
              "heart.attack         0\n",
              "dtype: int64"
            ]
          },
          "metadata": {},
          "execution_count": 68
        }
      ]
    },
    {
      "cell_type": "markdown",
      "metadata": {
        "id": "FqDxdvvy751n"
      },
      "source": [
        "## Interim evaluation\n",
        "It looks like there a no missing values in our dataset (yay!)\n",
        "\n",
        "Of all 3788 patients, 3678 have no heart attack and 110 do have a heart attack. That means our data is not very balanced, which could lead to problems in the model predictions later on. \n",
        "\n",
        "It looks like the data is stored in categorical variables. Better work with numerically-coded variables as model input, therefore I will transform them accordingly. The copy of the original data can be used to deduce which codes belong to which category.\n"
      ]
    },
    {
      "cell_type": "code",
      "metadata": {
        "id": "UEJeUeCHLALa",
        "colab": {
          "base_uri": "https://localhost:8080/",
          "height": 540
        },
        "outputId": "0da757cb-57a9-4b8b-8bc6-2d09629cc06d"
      },
      "source": [
        "from scipy.stats import chi2_contingency\n",
        "## Data wrangling\n",
        "## Convert variables from object to categorical\n",
        "data[data.select_dtypes(['object']).columns] = data.select_dtypes(['object']).apply(lambda x: x.astype('category'))\n",
        "## Convert variables from categorical to code\n",
        "data[data.select_dtypes(['category']).columns] = data.select_dtypes(['category']).apply(lambda x: x.cat.codes)\n",
        "\n",
        "## Remove the first column (uninformative)\n",
        "data = data.iloc[: , 1:]\n",
        "\n",
        "## Those variables that are not dummy coded yet (i.e. only have 1/0 values) need to be transformed as well\n",
        "data = pd.get_dummies(data, columns=['age', 'education', 'physical.activity', 'healthy.diet'], drop_first=True)\n",
        "\n",
        "data.head(15)"
      ],
      "execution_count": 69,
      "outputs": [
        {
          "output_type": "execute_result",
          "data": {
            "text/html": [
              "<div>\n",
              "<style scoped>\n",
              "    .dataframe tbody tr th:only-of-type {\n",
              "        vertical-align: middle;\n",
              "    }\n",
              "\n",
              "    .dataframe tbody tr th {\n",
              "        vertical-align: top;\n",
              "    }\n",
              "\n",
              "    .dataframe thead th {\n",
              "        text-align: right;\n",
              "    }\n",
              "</style>\n",
              "<table border=\"1\" class=\"dataframe\">\n",
              "  <thead>\n",
              "    <tr style=\"text-align: right;\">\n",
              "      <th></th>\n",
              "      <th>arthritis.type</th>\n",
              "      <th>gender</th>\n",
              "      <th>bmi</th>\n",
              "      <th>diabetes</th>\n",
              "      <th>smoke</th>\n",
              "      <th>marriage</th>\n",
              "      <th>medical.access</th>\n",
              "      <th>blood.pressure</th>\n",
              "      <th>covered.health</th>\n",
              "      <th>heart.attack</th>\n",
              "      <th>age_1</th>\n",
              "      <th>age_2</th>\n",
              "      <th>education_1</th>\n",
              "      <th>education_2</th>\n",
              "      <th>physical.activity_1</th>\n",
              "      <th>physical.activity_2</th>\n",
              "      <th>healthy.diet_1</th>\n",
              "      <th>healthy.diet_2</th>\n",
              "    </tr>\n",
              "  </thead>\n",
              "  <tbody>\n",
              "    <tr>\n",
              "      <th>0</th>\n",
              "      <td>0</td>\n",
              "      <td>1</td>\n",
              "      <td>1</td>\n",
              "      <td>0</td>\n",
              "      <td>0</td>\n",
              "      <td>0</td>\n",
              "      <td>1</td>\n",
              "      <td>0</td>\n",
              "      <td>0</td>\n",
              "      <td>0</td>\n",
              "      <td>1</td>\n",
              "      <td>0</td>\n",
              "      <td>0</td>\n",
              "      <td>1</td>\n",
              "      <td>1</td>\n",
              "      <td>0</td>\n",
              "      <td>0</td>\n",
              "      <td>0</td>\n",
              "    </tr>\n",
              "    <tr>\n",
              "      <th>1</th>\n",
              "      <td>0</td>\n",
              "      <td>1</td>\n",
              "      <td>0</td>\n",
              "      <td>0</td>\n",
              "      <td>0</td>\n",
              "      <td>1</td>\n",
              "      <td>1</td>\n",
              "      <td>0</td>\n",
              "      <td>0</td>\n",
              "      <td>0</td>\n",
              "      <td>0</td>\n",
              "      <td>0</td>\n",
              "      <td>1</td>\n",
              "      <td>0</td>\n",
              "      <td>0</td>\n",
              "      <td>1</td>\n",
              "      <td>1</td>\n",
              "      <td>0</td>\n",
              "    </tr>\n",
              "    <tr>\n",
              "      <th>2</th>\n",
              "      <td>0</td>\n",
              "      <td>1</td>\n",
              "      <td>1</td>\n",
              "      <td>0</td>\n",
              "      <td>1</td>\n",
              "      <td>0</td>\n",
              "      <td>1</td>\n",
              "      <td>1</td>\n",
              "      <td>1</td>\n",
              "      <td>0</td>\n",
              "      <td>1</td>\n",
              "      <td>0</td>\n",
              "      <td>1</td>\n",
              "      <td>0</td>\n",
              "      <td>0</td>\n",
              "      <td>1</td>\n",
              "      <td>1</td>\n",
              "      <td>0</td>\n",
              "    </tr>\n",
              "    <tr>\n",
              "      <th>3</th>\n",
              "      <td>1</td>\n",
              "      <td>1</td>\n",
              "      <td>1</td>\n",
              "      <td>1</td>\n",
              "      <td>0</td>\n",
              "      <td>0</td>\n",
              "      <td>1</td>\n",
              "      <td>1</td>\n",
              "      <td>1</td>\n",
              "      <td>0</td>\n",
              "      <td>1</td>\n",
              "      <td>0</td>\n",
              "      <td>0</td>\n",
              "      <td>0</td>\n",
              "      <td>0</td>\n",
              "      <td>1</td>\n",
              "      <td>0</td>\n",
              "      <td>1</td>\n",
              "    </tr>\n",
              "    <tr>\n",
              "      <th>4</th>\n",
              "      <td>0</td>\n",
              "      <td>0</td>\n",
              "      <td>1</td>\n",
              "      <td>0</td>\n",
              "      <td>0</td>\n",
              "      <td>0</td>\n",
              "      <td>0</td>\n",
              "      <td>0</td>\n",
              "      <td>0</td>\n",
              "      <td>0</td>\n",
              "      <td>0</td>\n",
              "      <td>0</td>\n",
              "      <td>1</td>\n",
              "      <td>0</td>\n",
              "      <td>1</td>\n",
              "      <td>0</td>\n",
              "      <td>0</td>\n",
              "      <td>0</td>\n",
              "    </tr>\n",
              "    <tr>\n",
              "      <th>5</th>\n",
              "      <td>0</td>\n",
              "      <td>1</td>\n",
              "      <td>0</td>\n",
              "      <td>0</td>\n",
              "      <td>0</td>\n",
              "      <td>1</td>\n",
              "      <td>0</td>\n",
              "      <td>1</td>\n",
              "      <td>1</td>\n",
              "      <td>0</td>\n",
              "      <td>0</td>\n",
              "      <td>0</td>\n",
              "      <td>0</td>\n",
              "      <td>0</td>\n",
              "      <td>0</td>\n",
              "      <td>1</td>\n",
              "      <td>1</td>\n",
              "      <td>0</td>\n",
              "    </tr>\n",
              "    <tr>\n",
              "      <th>6</th>\n",
              "      <td>0</td>\n",
              "      <td>0</td>\n",
              "      <td>1</td>\n",
              "      <td>0</td>\n",
              "      <td>0</td>\n",
              "      <td>0</td>\n",
              "      <td>1</td>\n",
              "      <td>0</td>\n",
              "      <td>1</td>\n",
              "      <td>0</td>\n",
              "      <td>0</td>\n",
              "      <td>0</td>\n",
              "      <td>1</td>\n",
              "      <td>0</td>\n",
              "      <td>0</td>\n",
              "      <td>1</td>\n",
              "      <td>0</td>\n",
              "      <td>1</td>\n",
              "    </tr>\n",
              "    <tr>\n",
              "      <th>7</th>\n",
              "      <td>0</td>\n",
              "      <td>1</td>\n",
              "      <td>1</td>\n",
              "      <td>0</td>\n",
              "      <td>0</td>\n",
              "      <td>0</td>\n",
              "      <td>1</td>\n",
              "      <td>1</td>\n",
              "      <td>1</td>\n",
              "      <td>0</td>\n",
              "      <td>0</td>\n",
              "      <td>1</td>\n",
              "      <td>0</td>\n",
              "      <td>1</td>\n",
              "      <td>0</td>\n",
              "      <td>1</td>\n",
              "      <td>1</td>\n",
              "      <td>0</td>\n",
              "    </tr>\n",
              "    <tr>\n",
              "      <th>8</th>\n",
              "      <td>0</td>\n",
              "      <td>1</td>\n",
              "      <td>1</td>\n",
              "      <td>0</td>\n",
              "      <td>1</td>\n",
              "      <td>0</td>\n",
              "      <td>0</td>\n",
              "      <td>0</td>\n",
              "      <td>0</td>\n",
              "      <td>0</td>\n",
              "      <td>0</td>\n",
              "      <td>0</td>\n",
              "      <td>1</td>\n",
              "      <td>0</td>\n",
              "      <td>0</td>\n",
              "      <td>0</td>\n",
              "      <td>1</td>\n",
              "      <td>0</td>\n",
              "    </tr>\n",
              "    <tr>\n",
              "      <th>9</th>\n",
              "      <td>0</td>\n",
              "      <td>0</td>\n",
              "      <td>1</td>\n",
              "      <td>1</td>\n",
              "      <td>0</td>\n",
              "      <td>1</td>\n",
              "      <td>1</td>\n",
              "      <td>0</td>\n",
              "      <td>1</td>\n",
              "      <td>0</td>\n",
              "      <td>1</td>\n",
              "      <td>0</td>\n",
              "      <td>0</td>\n",
              "      <td>1</td>\n",
              "      <td>0</td>\n",
              "      <td>1</td>\n",
              "      <td>0</td>\n",
              "      <td>0</td>\n",
              "    </tr>\n",
              "    <tr>\n",
              "      <th>10</th>\n",
              "      <td>0</td>\n",
              "      <td>1</td>\n",
              "      <td>1</td>\n",
              "      <td>0</td>\n",
              "      <td>0</td>\n",
              "      <td>0</td>\n",
              "      <td>1</td>\n",
              "      <td>1</td>\n",
              "      <td>1</td>\n",
              "      <td>0</td>\n",
              "      <td>1</td>\n",
              "      <td>0</td>\n",
              "      <td>0</td>\n",
              "      <td>1</td>\n",
              "      <td>0</td>\n",
              "      <td>1</td>\n",
              "      <td>1</td>\n",
              "      <td>0</td>\n",
              "    </tr>\n",
              "    <tr>\n",
              "      <th>11</th>\n",
              "      <td>0</td>\n",
              "      <td>1</td>\n",
              "      <td>1</td>\n",
              "      <td>1</td>\n",
              "      <td>1</td>\n",
              "      <td>1</td>\n",
              "      <td>1</td>\n",
              "      <td>1</td>\n",
              "      <td>1</td>\n",
              "      <td>0</td>\n",
              "      <td>1</td>\n",
              "      <td>0</td>\n",
              "      <td>0</td>\n",
              "      <td>1</td>\n",
              "      <td>0</td>\n",
              "      <td>1</td>\n",
              "      <td>1</td>\n",
              "      <td>0</td>\n",
              "    </tr>\n",
              "    <tr>\n",
              "      <th>12</th>\n",
              "      <td>0</td>\n",
              "      <td>1</td>\n",
              "      <td>1</td>\n",
              "      <td>0</td>\n",
              "      <td>1</td>\n",
              "      <td>0</td>\n",
              "      <td>0</td>\n",
              "      <td>0</td>\n",
              "      <td>0</td>\n",
              "      <td>0</td>\n",
              "      <td>0</td>\n",
              "      <td>0</td>\n",
              "      <td>1</td>\n",
              "      <td>0</td>\n",
              "      <td>1</td>\n",
              "      <td>0</td>\n",
              "      <td>1</td>\n",
              "      <td>0</td>\n",
              "    </tr>\n",
              "    <tr>\n",
              "      <th>13</th>\n",
              "      <td>0</td>\n",
              "      <td>1</td>\n",
              "      <td>1</td>\n",
              "      <td>0</td>\n",
              "      <td>1</td>\n",
              "      <td>0</td>\n",
              "      <td>1</td>\n",
              "      <td>0</td>\n",
              "      <td>1</td>\n",
              "      <td>0</td>\n",
              "      <td>0</td>\n",
              "      <td>0</td>\n",
              "      <td>0</td>\n",
              "      <td>0</td>\n",
              "      <td>0</td>\n",
              "      <td>1</td>\n",
              "      <td>1</td>\n",
              "      <td>0</td>\n",
              "    </tr>\n",
              "    <tr>\n",
              "      <th>14</th>\n",
              "      <td>0</td>\n",
              "      <td>1</td>\n",
              "      <td>1</td>\n",
              "      <td>0</td>\n",
              "      <td>1</td>\n",
              "      <td>0</td>\n",
              "      <td>0</td>\n",
              "      <td>0</td>\n",
              "      <td>0</td>\n",
              "      <td>0</td>\n",
              "      <td>0</td>\n",
              "      <td>0</td>\n",
              "      <td>0</td>\n",
              "      <td>0</td>\n",
              "      <td>0</td>\n",
              "      <td>0</td>\n",
              "      <td>1</td>\n",
              "      <td>0</td>\n",
              "    </tr>\n",
              "  </tbody>\n",
              "</table>\n",
              "</div>"
            ],
            "text/plain": [
              "    arthritis.type  gender  ...  healthy.diet_1  healthy.diet_2\n",
              "0                0       1  ...               0               0\n",
              "1                0       1  ...               1               0\n",
              "2                0       1  ...               1               0\n",
              "3                1       1  ...               0               1\n",
              "4                0       0  ...               0               0\n",
              "5                0       1  ...               1               0\n",
              "6                0       0  ...               0               1\n",
              "7                0       1  ...               1               0\n",
              "8                0       1  ...               1               0\n",
              "9                0       0  ...               0               0\n",
              "10               0       1  ...               1               0\n",
              "11               0       1  ...               1               0\n",
              "12               0       1  ...               1               0\n",
              "13               0       1  ...               1               0\n",
              "14               0       1  ...               1               0\n",
              "\n",
              "[15 rows x 18 columns]"
            ]
          },
          "metadata": {},
          "execution_count": 69
        }
      ]
    },
    {
      "cell_type": "code",
      "metadata": {
        "id": "iFmvSp_4W4io",
        "colab": {
          "base_uri": "https://localhost:8080/",
          "height": 1000
        },
        "outputId": "5499d328-426e-417f-8909-947a5de1052a"
      },
      "source": [
        "# plots multiple seaborn countplots on different subplots.\n",
        "# source: https://www.justintodata.com/how-to-use-python-seaborn-for-exploratory-data-analysis/\n",
        "\n",
        "sns.set(font_scale=1.2)\n",
        "\n",
        "def plot_multiple_countplots(df, cols):\n",
        "    num_plots = len(cols)\n",
        "    num_cols = math.ceil(np.sqrt(num_plots))\n",
        "    num_rows = math.ceil(num_plots/num_cols)\n",
        "        \n",
        "    fig, axs = plt.subplots(num_rows, num_cols)\n",
        "    plt.subplots_adjust(hspace = 0.8)\n",
        "    plt.subplots_adjust(wspace = 0.8)\n",
        "\n",
        "    for ind, col in enumerate(cols):\n",
        "        i = math.floor(ind/num_cols)\n",
        "        j = ind - i*num_cols\n",
        "        \n",
        "        if num_rows == 1:\n",
        "            if num_cols == 1:\n",
        "                sns.countplot(x=df[col], ax=axs)\n",
        "            else:\n",
        "                sns.countplot(x=df[col], ax=axs[j])\n",
        "        else:\n",
        "            sns.countplot(x=df[col], ax=axs[i, j])\n",
        "            \n",
        "# Define all the columns we want to plot\n",
        "col_to_be_plotted = list(data.columns.values)\n",
        "\n",
        "# Plot per 4 variables for better overview\n",
        "plot_multiple_countplots(data,col_to_be_plotted[0:4])\n",
        "plot_multiple_countplots(data,col_to_be_plotted[4:8])\n",
        "plot_multiple_countplots(data,col_to_be_plotted[8:12])\n",
        "plot_multiple_countplots(data,col_to_be_plotted[12:14])"
      ],
      "execution_count": 70,
      "outputs": [
        {
          "output_type": "display_data",
          "data": {
            "image/png": "[encoded data removed]",
            "text/plain": [
              "<Figure size 432x288 with 4 Axes>"
            ]
          },
          "metadata": {}
        },
        {
          "output_type": "display_data",
          "data": {
            "image/png": "[encoded data removed]",
            "text/plain": [
              "<Figure size 432x288 with 4 Axes>"
            ]
          },
          "metadata": {}
        },
        {
          "output_type": "display_data",
          "data": {
            "image/png": "[encoded data removed]",
            "text/plain": [
              "<Figure size 432x288 with 4 Axes>"
            ]
          },
          "metadata": {}
        },
        {
          "output_type": "display_data",
          "data": {
            "image/png": "[encoded data removed]",
            "text/plain": [
              "<Figure size 432x288 with 2 Axes>"
            ]
          },
          "metadata": {}
        }
      ]
    },
    {
      "cell_type": "markdown",
      "metadata": {
        "id": "4EyXhGiJj6Q-"
      },
      "source": [
        "## Interim evaluation\n",
        "It seems a small minority of the sample has arthritis. Most have a high BMI, but no diabetes. Most are young (<50), are married and have college or high school education. Most perform no physical activity. Not sure what binary blood pressure variable means (blood pressure issues yes/no?). Most rated their diet as good. Medical data is available for most and they are insured.\n",
        "The dataset contains roughly equal males and females and equal amount of smokers."
      ]
    },
    {
      "cell_type": "markdown",
      "metadata": {
        "id": "KPrPLj619TL1"
      },
      "source": [
        "## Part 1: Is it possible to predict heart-attack based on the given features?\n",
        "\n",
        "Since heart attack (HA) is our outcome measurement and it is coded binary, we could try to predict using for example a simple logistic regression but also tree-based models (such as gradient boosting), neural networks or support vector machines could be used. \n",
        "Conceptually it would make sense to be able to predict HA from variables such as age (Lloyd-Jones et al., 2006), BMI (Flint et al., 2010), smoking status (Lee & Son, 2019) etc.\n",
        "\n",
        "References:\n",
        "\n",
        "https://www.ncbi.nlm.nih.gov/pmc/articles/PMC6696428/\n",
        "\n",
        "https://www.ahajournals.org/doi/full/10.1161/circulationaha.105.548206\n",
        "\n",
        "https://www.ncbi.nlm.nih.gov/pmc/articles/PMC2992336/\n",
        "\n",
        "\n",
        "\n",
        "So yes, theoretically it should be possible to predict heart-attack based on the given features and the data types. The next question would be how successfully such a model can predict HA :-)\n",
        "\n",
        "The low number of cases that have a HA could lead to problems. Let's first try to predict heart rate with the given variables using simple logistic regression.\n"
      ]
    },
    {
      "cell_type": "markdown",
      "metadata": {
        "id": "4xQDMwoAJ_VY"
      },
      "source": [
        "### Data splitting\n"
      ]
    },
    {
      "cell_type": "code",
      "metadata": {
        "id": "ymxGwfN89P_P",
        "colab": {
          "base_uri": "https://localhost:8080/"
        },
        "outputId": "c5fbf9e0-6c5f-44a4-e770-a183b405f642"
      },
      "source": [
        "## Create two datasets containing all either the data except the outcome (HA) variable, or only the outcome variable\n",
        "X = data.drop('heart.attack', axis=1)\n",
        "y = data['heart.attack']\n",
        "\n",
        "## Here we perform the split\n",
        "# Use default split size\n",
        "# Add a random state for reproducibility\n",
        "# Since our outcome variable is unbalanced, we should stratisfy the split\n",
        "X_train, X_test, y_train, y_test = train_test_split(X, y, random_state=1, stratify=y)\n",
        "\n",
        "## Looks balanced between train and test!\n",
        "y_train.value_counts()[1]/ y_train.value_counts()[0] #0.029720\n",
        "y_test.value_counts()[1] / y_test.value_counts()[0]  #0.030467"
      ],
      "execution_count": 71,
      "outputs": [
        {
          "output_type": "execute_result",
          "data": {
            "text/plain": [
              "0.030467899891186073"
            ]
          },
          "metadata": {},
          "execution_count": 71
        }
      ]
    },
    {
      "cell_type": "markdown",
      "metadata": {
        "id": "3BcytCjZKQZT"
      },
      "source": [
        "### Logistic regresssion"
      ]
    },
    {
      "cell_type": "code",
      "metadata": {
        "id": "qCOKx4I9KSz-",
        "colab": {
          "base_uri": "https://localhost:8080/"
        },
        "outputId": "14bec3ba-6edb-4ea5-fdd6-59f4bd03efdf"
      },
      "source": [
        "## Run Logistic regression (default settings)\n",
        "log_regr = LogisticRegression()\n",
        "log_regr.fit(X_train, y_train)"
      ],
      "execution_count": 72,
      "outputs": [
        {
          "output_type": "execute_result",
          "data": {
            "text/plain": [
              "LogisticRegression()"
            ]
          },
          "metadata": {},
          "execution_count": 72
        }
      ]
    },
    {
      "cell_type": "code",
      "metadata": {
        "id": "_gF67haByDle",
        "colab": {
          "base_uri": "https://localhost:8080/"
        },
        "outputId": "cb37f835-8057-4fd4-d794-8f18af204b13"
      },
      "source": [
        "## Check performance\n",
        "log_regr.predict_proba(X_train)\n",
        "\n",
        "print(\"Training sum of outcome scores: {}\".format(sum(log_regr.predict(X_train))))\n",
        "print(\"Testing sum of outcome scores: {}\".format(sum(log_regr.predict(X_test))))"
      ],
      "execution_count": 73,
      "outputs": [
        {
          "output_type": "stream",
          "name": "stdout",
          "text": [
            "Training sum of outcome scores: 0\n",
            "Testing sum of outcome scores: 0\n"
          ]
        }
      ]
    },
    {
      "cell_type": "code",
      "metadata": {
        "id": "30yZC8aowB1L",
        "colab": {
          "base_uri": "https://localhost:8080/"
        },
        "outputId": "056a971d-e146-4356-f528-645cec1f4b40"
      },
      "source": [
        "## Check performance: accuracy score\n",
        "train_score = accuracy_score(y_train, log_regr.predict(X_train)) * 100\n",
        "test_score  = accuracy_score(y_test,  log_regr.predict(X_test))  * 100\n",
        "\n",
        "print(\"Training accuracy score: {}\".format(train_score))\n",
        "print(\"Test accuracy score: {}\".format(test_score))"
      ],
      "execution_count": 74,
      "outputs": [
        {
          "output_type": "stream",
          "name": "stdout",
          "text": [
            "Training accuracy score: 97.11369236184441\n",
            "Test accuracy score: 97.04329461457233\n"
          ]
        }
      ]
    },
    {
      "cell_type": "code",
      "metadata": {
        "id": "2L55f1v9voMR",
        "colab": {
          "base_uri": "https://localhost:8080/",
          "height": 384
        },
        "outputId": "b62262aa-2a5f-4c2d-d413-a5ae9471102b"
      },
      "source": [
        "## Check performance: ROC curve\n",
        "plot_roc_curve(log_regr, X_test, y_test)"
      ],
      "execution_count": 75,
      "outputs": [
        {
          "output_type": "stream",
          "name": "stderr",
          "text": [
            "/usr/local/lib/python3.7/dist-packages/sklearn/utils/deprecation.py:87: FutureWarning: Function plot_roc_curve is deprecated; Function `plot_roc_curve` is deprecated in 1.0 and will be removed in 1.2. Use one of the class methods: RocCurveDisplay.from_predictions or RocCurveDisplay.from_estimator.\n",
            "  warnings.warn(msg, category=FutureWarning)\n"
          ]
        },
        {
          "output_type": "execute_result",
          "data": {
            "text/plain": [
              "<sklearn.metrics._plot.roc_curve.RocCurveDisplay at 0x7f63f28bbf50>"
            ]
          },
          "metadata": {},
          "execution_count": 75
        },
        {
          "output_type": "display_data",
          "data": {
            "image/png": "[encoded data removed]",
            "text/plain": [
              "<Figure size 432x288 with 1 Axes>"
            ]
          },
          "metadata": {}
        }
      ]
    },
    {
      "cell_type": "code",
      "metadata": {
        "id": "69Kd8o8fxZjl",
        "colab": {
          "base_uri": "https://localhost:8080/",
          "height": 382
        },
        "outputId": "01912288-ad8f-4c66-f145-73dae8cdfb9e"
      },
      "source": [
        "## Check performance: Confusion matrix\n",
        "print('Confusion Matrix')\n",
        "plot_confusion_matrix(log_regr, X_test, y_test)"
      ],
      "execution_count": 76,
      "outputs": [
        {
          "output_type": "stream",
          "name": "stdout",
          "text": [
            "Confusion Matrix\n"
          ]
        },
        {
          "output_type": "stream",
          "name": "stderr",
          "text": [
            "/usr/local/lib/python3.7/dist-packages/sklearn/utils/deprecation.py:87: FutureWarning: Function plot_confusion_matrix is deprecated; Function `plot_confusion_matrix` is deprecated in 1.0 and will be removed in 1.2. Use one of the class methods: ConfusionMatrixDisplay.from_predictions or ConfusionMatrixDisplay.from_estimator.\n",
            "  warnings.warn(msg, category=FutureWarning)\n"
          ]
        },
        {
          "output_type": "execute_result",
          "data": {
            "text/plain": [
              "<sklearn.metrics._plot.confusion_matrix.ConfusionMatrixDisplay at 0x7f63f25d3490>"
            ]
          },
          "metadata": {},
          "execution_count": 76
        },
        {
          "output_type": "display_data",
          "data": {
            "image/png": "[encoded data removed]",
            "text/plain": [
              "<Figure size 432x288 with 2 Axes>"
            ]
          },
          "metadata": {}
        }
      ]
    },
    {
      "cell_type": "code",
      "metadata": {
        "id": "NNkgyeu8_j-r",
        "colab": {
          "base_uri": "https://localhost:8080/"
        },
        "outputId": "cce38594-1f58-4ef7-c47b-737c0accc090"
      },
      "source": [
        "## Check performance: Classification report\n",
        "print(classification_report(y_test, log_regr.predict(X_test)))"
      ],
      "execution_count": 77,
      "outputs": [
        {
          "output_type": "stream",
          "name": "stdout",
          "text": [
            "              precision    recall  f1-score   support\n",
            "\n",
            "           0       0.97      1.00      0.98       919\n",
            "           1       0.00      0.00      0.00        28\n",
            "\n",
            "    accuracy                           0.97       947\n",
            "   macro avg       0.49      0.50      0.49       947\n",
            "weighted avg       0.94      0.97      0.96       947\n",
            "\n"
          ]
        },
        {
          "output_type": "stream",
          "name": "stderr",
          "text": [
            "/usr/local/lib/python3.7/dist-packages/sklearn/metrics/_classification.py:1308: UndefinedMetricWarning: Precision and F-score are ill-defined and being set to 0.0 in labels with no predicted samples. Use `zero_division` parameter to control this behavior.\n",
            "  _warn_prf(average, modifier, msg_start, len(result))\n",
            "/usr/local/lib/python3.7/dist-packages/sklearn/metrics/_classification.py:1308: UndefinedMetricWarning: Precision and F-score are ill-defined and being set to 0.0 in labels with no predicted samples. Use `zero_division` parameter to control this behavior.\n",
            "  _warn_prf(average, modifier, msg_start, len(result))\n",
            "/usr/local/lib/python3.7/dist-packages/sklearn/metrics/_classification.py:1308: UndefinedMetricWarning: Precision and F-score are ill-defined and being set to 0.0 in labels with no predicted samples. Use `zero_division` parameter to control this behavior.\n",
            "  _warn_prf(average, modifier, msg_start, len(result))\n"
          ]
        }
      ]
    },
    {
      "cell_type": "code",
      "metadata": {
        "id": "bY5K2EMoGSYE",
        "colab": {
          "base_uri": "https://localhost:8080/",
          "height": 618
        },
        "outputId": "29d5e5a6-46af-4ed5-adea-183bdfd08e73"
      },
      "source": [
        "## Check performance: Feature importance\n",
        "\n",
        "# get importance\n",
        "importance = log_regr.coef_[0]\n",
        "# summarize feature importance\n",
        "for i,v in enumerate(importance):\n",
        "\tprint('Feature: %0d, Score: %.5f' % (i,v))\n",
        "\n",
        "# The positive scores indicate a feature that predicts class 1, \n",
        "# whereas the negative scores indicate a feature that predicts class 0.\n",
        "\n",
        "## Create labels for feature importance plot\n",
        "feat_num = list(range(0,18))\n",
        "print(list(zip(feat_num, list(data.columns))))\n",
        "\n",
        "# plot feature importance\n",
        "plt.bar([x for x in range(len(importance))], importance)\n",
        "plt.show()"
      ],
      "execution_count": 78,
      "outputs": [
        {
          "output_type": "stream",
          "name": "stdout",
          "text": [
            "Feature: 0, Score: 0.26544\n",
            "Feature: 1, Score: 1.04007\n",
            "Feature: 2, Score: 0.34663\n",
            "Feature: 3, Score: 0.23778\n",
            "Feature: 4, Score: 0.81365\n",
            "Feature: 5, Score: 0.07829\n",
            "Feature: 6, Score: -0.00707\n",
            "Feature: 7, Score: 1.25707\n",
            "Feature: 8, Score: 0.19965\n",
            "Feature: 9, Score: 0.63050\n",
            "Feature: 10, Score: 1.62242\n",
            "Feature: 11, Score: 0.08693\n",
            "Feature: 12, Score: 0.01442\n",
            "Feature: 13, Score: -0.07491\n",
            "Feature: 14, Score: 0.06103\n",
            "Feature: 15, Score: 0.01684\n",
            "Feature: 16, Score: 0.77485\n",
            "[(0, 'arthritis.type'), (1, 'gender'), (2, 'bmi'), (3, 'diabetes'), (4, 'smoke'), (5, 'marriage'), (6, 'medical.access'), (7, 'blood.pressure'), (8, 'covered.health'), (9, 'heart.attack'), (10, 'age_1'), (11, 'age_2'), (12, 'education_1'), (13, 'education_2'), (14, 'physical.activity_1'), (15, 'physical.activity_2'), (16, 'healthy.diet_1'), (17, 'healthy.diet_2')]\n"
          ]
        },
        {
          "output_type": "display_data",
          "data": {
            "image/png": "[encoded data removed]",
            "text/plain": [
              "<Figure size 432x288 with 1 Axes>"
            ]
          },
          "metadata": {}
        }
      ]
    },
    {
      "cell_type": "markdown",
      "metadata": {
        "id": "PYUUl8Yu37-K"
      },
      "source": [
        "### Model evaluation\n",
        "\n",
        "It looks like age and bloodpressure are the best predictors of HA. However, it seems like our model always (100% of the cases) predicts the sample to NOT have a heart attack. This leads to a high accuracy (97%) since there are a lot of true negatives, but in our confusion matrix we also see that the model has zero true positives. \n",
        "This would make this a bad model, as it is not able to predict HA succesfully at all.\n",
        "\n",
        "This result is however not surprising, since using a \"vanilla\" logistic regression with default settings might not be sensitive enough to pick up and properly weight the small amount of samples that have a HA in the original dataset or handle many covariates.\n",
        "Let's see if a different model would be able to perform better!\n"
      ]
    },
    {
      "cell_type": "markdown",
      "metadata": {
        "id": "8xnizy8M39vn"
      },
      "source": [
        "## Part 2: How can we measure the quality of the model? \n",
        "There are multiple ways to check model performance. We can use classification metrics or convenience methods (e.g. creating reports) to do so. \n",
        "In the example here, I looked at the actual predictions, calculated model accuracy, looked at a ROC curve, confusion matrix and lastly created a classification report. Note that one should look at multiple measurements of model performance to get a good feeling for the quality of the model.\n",
        "\n",
        "The predictions tell us the predicted probability of the logistic regression for each case. The first column of the output of predict_proba is P(HA = 0), and the second column is P(HA = 1). Looks like all cases have a high probablity for being scored a 0. \n",
        "\n",
        "The model accuracy tells us the number of classifications that are correctly predicted divided by the total number of predictions made. This is very high, since most of the cases are indeed truely 0. However, we can note that in this case accuracy (alone) is not a very good measurement of quality as it gives us false confidence that it's a good model. We have to look at multiple measurements to gather more evidence on the model quality!\n",
        "\n",
        "The ROC curve tells us the trade-off between the true positive rate and false positive rate using different probability thresholds. The higher the curve towards the top left corner, the better the model, also leading to a larger area under the curve (AUC). Looks like our model does not perform ideally by it's shape and the AUC value of .85 (the higher the better).  \n",
        "\n",
        "The confusion matrix tells us the amount of true positives, true negatives, false positives (\"Type I error\") and false negatives (\"Type II error\"). We see mostly true negatives but zero true positives. This leads us to conclude it's a bad model, since it cannot predict HA at all. \n",
        "\n",
        "Lastly, the automatic classification report from the sklearn module gives us a summary of the precision, recall, F1 score for each class.\n",
        "Precision is the ratio of true positives to the sum of true and false positives, in other words: the accuracy of positive predictions. Recall is defined as the ratio of true positives to the sum of true positives and false negatives, in other words: the fraction of positives that were correctly identified. The F1 score is a weighted mean of precision and recall such that the best score is 1.0 and the worst is 0.0.\n",
        "\n",
        "In addition, more methods are available to do model testing and learn how to tune your model better. For example, cross validation methods can check perfomance on unseen data.\n",
        "\n",
        "\n"
      ]
    },
    {
      "cell_type": "markdown",
      "metadata": {
        "id": "vDIb20ciE99-"
      },
      "source": [
        "## Part 3: Which classification model did you choose and why is it good for the use case? Are there other models that would suit the use case and if so, why? \n",
        "\n",
        "Logistic regression is the standard, most popular approach when the goal is to predict an outcome with two categories and therefore a logical first choice for this type of use case. It is a fast, easy to understand method. However, we have noticed that our default model performs very poorly. Before switching to a new model, one should consider changing the parameters of the default model first, to see if performance increases. One could for example try to weight the HA cases, such that those cases that are 1 (HA) are considered more strongly. Alternatively, one could equalize the number of 0(no-HA) and 1(HA) cases in the training set and perform the training/testing steps multiple times. \n",
        "\n",
        "In the end, there are multiple alternatives to use on this type of binary-outcome classification problems instead of logistic regression, which may perform better. Each model comes with its own set of pros and cons. \n",
        "Given the rather small dataset, a neural network would not be well-suited. However, one could consider other methods that work better with many covariates such as K-Nearest Neighbor. Alternatively, for classification problems, tree-based models (such as gradient boosting) may outperform logistic regression performance, where libraries such as XGBoost win \"practically every competition in the structured data category\" according to Anthony Goldbloom, founder and CEO of Kaggle.\n",
        "\n",
        "Since our data is categorical in nature, the library CatBoost may be helpful as it provides a gradient boosting framework which attempts to solve for categorical features specifically. \n",
        "\n",
        "\n",
        "\n",
        "Reference:\n",
        "https://www.import.io/post/how-to-win-a-kaggle-competition/\n",
        "\n",
        "\n",
        "\n"
      ]
    },
    {
      "cell_type": "markdown",
      "metadata": {
        "id": "JOEmcmaGaK-I"
      },
      "source": [
        "## Part 4:\tPlease compare your model with at least one other model and explain the differences.\n",
        "\n",
        "Let's create an CatBoost model to compare.\n",
        "Since CatBoost can work with the original categorical data, let's see how it works with the original data containing the categorical variables.\n"
      ]
    },
    {
      "cell_type": "markdown",
      "metadata": {
        "id": "81JGcjHEU5bj"
      },
      "source": [
        "### Data splitting\n"
      ]
    },
    {
      "cell_type": "code",
      "metadata": {
        "id": "ypO2eV5eddfJ"
      },
      "source": [
        "## Split the orig data new\n",
        "## Create two datasets containing all either the data except the outcome (HA) variable, or only the outcome variable\n",
        "## Remove the first column (uninformative)\n",
        "copy_orig_data = copy_orig_data.iloc[: , 1:]\n",
        "\n",
        "X_o = copy_orig_data.drop('heart.attack', axis=1)\n",
        "y_o = copy_orig_data['heart.attack']\n",
        "\n",
        "## Here we perform the split\n",
        "# Since our outcome variable is unbalanced, we should stratisfy the split\n",
        "X_o_train, X_o_test, y_o_train, y_o_test = train_test_split(X_o, y_o, random_state=1, stratify=y)\n"
      ],
      "execution_count": 79,
      "outputs": []
    },
    {
      "cell_type": "code",
      "metadata": {
        "colab": {
          "base_uri": "https://localhost:8080/"
        },
        "id": "vsVeGIL91Yzd",
        "outputId": "e08b87ec-baf2-4da1-c10d-b086a8d5e16b"
      },
      "source": [
        "## Note which variables are categorical for CatBoost input\n",
        "cat_features = list(range(0, X_o.shape[1]))\n",
        "print(cat_features)"
      ],
      "execution_count": 80,
      "outputs": [
        {
          "output_type": "stream",
          "name": "stdout",
          "text": [
            "[0, 1, 2, 3, 4, 5, 6, 7, 8, 9, 10, 11, 12]\n"
          ]
        }
      ]
    },
    {
      "cell_type": "markdown",
      "metadata": {
        "id": "5zJ0evepU79e"
      },
      "source": [
        "### CatBoost Classifer"
      ]
    },
    {
      "cell_type": "code",
      "metadata": {
        "colab": {
          "base_uri": "https://localhost:8080/"
        },
        "id": "Rc9KpUe904j-",
        "outputId": "6aed9e17-8f5c-4442-dee0-538ef298ca9e"
      },
      "source": [
        "## Run CatBoost Classifier\n",
        "model = CatBoostClassifier(iterations=200, learning_rate=0.05, random_seed=1, loss_function=\"Logloss\")\n",
        "model.fit(X_o_train, y_o_train,\n",
        "          cat_features=cat_features,\n",
        "          eval_set=(X_o_test, y_o_test), \n",
        "          verbose=50)\n"
      ],
      "execution_count": 81,
      "outputs": [
        {
          "output_type": "stream",
          "name": "stdout",
          "text": [
            "0:\tlearn: 0.5951981\ttest: 0.5971251\tbest: 0.5971251 (0)\ttotal: 6.15ms\tremaining: 1.22s\n",
            "50:\tlearn: 0.1033053\ttest: 0.1137295\tbest: 0.1137295 (50)\ttotal: 243ms\tremaining: 709ms\n",
            "100:\tlearn: 0.0902052\ttest: 0.1093486\tbest: 0.1093486 (100)\ttotal: 480ms\tremaining: 470ms\n",
            "150:\tlearn: 0.0824670\ttest: 0.1075870\tbest: 0.1074648 (149)\ttotal: 756ms\tremaining: 245ms\n",
            "199:\tlearn: 0.0750012\ttest: 0.1079517\tbest: 0.1074648 (149)\ttotal: 1.03s\tremaining: 0us\n",
            "\n",
            "bestTest = 0.1074648005\n",
            "bestIteration = 149\n",
            "\n",
            "Shrink model to first 150 iterations.\n"
          ]
        },
        {
          "output_type": "execute_result",
          "data": {
            "text/plain": [
              "<catboost.core.CatBoostClassifier at 0x7f63f2476e10>"
            ]
          },
          "metadata": {},
          "execution_count": 81
        }
      ]
    },
    {
      "cell_type": "code",
      "metadata": {
        "colab": {
          "base_uri": "https://localhost:8080/"
        },
        "id": "t3IKQ-51x21U",
        "outputId": "fe794b9d-e1bd-4365-b9e3-74e3289d3439"
      },
      "source": [
        "## Check performance\n",
        "model.predict_proba(X_o_train)\n",
        "\n",
        "# How many unique predictions are there?\n",
        "list(set(model.predict(data=X_o_test)))"
      ],
      "execution_count": 82,
      "outputs": [
        {
          "output_type": "execute_result",
          "data": {
            "text/plain": [
              "['No']"
            ]
          },
          "metadata": {},
          "execution_count": 82
        }
      ]
    },
    {
      "cell_type": "code",
      "metadata": {
        "colab": {
          "base_uri": "https://localhost:8080/"
        },
        "id": "sgoZNrrrauEb",
        "outputId": "65dc53b8-eac7-4cdb-b254-47885b4a1696"
      },
      "source": [
        "## Check performance: accuracy score\n",
        "train_score = accuracy_score(y_o_train, model.predict(X_o_train)) * 100\n",
        "test_score  = accuracy_score(y_o_test,  model.predict(X_o_test))  * 100\n",
        "\n",
        "print(\"Training accuracy score: {}\".format(train_score))\n",
        "print(\"Test accuracy score: {}\".format(test_score))"
      ],
      "execution_count": 83,
      "outputs": [
        {
          "output_type": "stream",
          "name": "stdout",
          "text": [
            "Training accuracy score: 97.18409010911651\n",
            "Test accuracy score: 97.04329461457233\n"
          ]
        }
      ]
    },
    {
      "cell_type": "code",
      "metadata": {
        "colab": {
          "base_uri": "https://localhost:8080/",
          "height": 391
        },
        "id": "h64uimFwa2e1",
        "outputId": "16255a89-a4a3-41b7-f560-3232e86b089b"
      },
      "source": [
        "## Check performance: ROC curve\n",
        "plot_roc_curve(model, X_o_test, y_o_test)"
      ],
      "execution_count": 84,
      "outputs": [
        {
          "output_type": "stream",
          "name": "stderr",
          "text": [
            "/usr/local/lib/python3.7/dist-packages/sklearn/utils/deprecation.py:87: FutureWarning: Function plot_roc_curve is deprecated; Function `plot_roc_curve` is deprecated in 1.0 and will be removed in 1.2. Use one of the class methods: RocCurveDisplay.from_predictions or RocCurveDisplay.from_estimator.\n",
            "  warnings.warn(msg, category=FutureWarning)\n"
          ]
        },
        {
          "output_type": "execute_result",
          "data": {
            "text/plain": [
              "<sklearn.metrics._plot.roc_curve.RocCurveDisplay at 0x7f63f241b850>"
            ]
          },
          "metadata": {},
          "execution_count": 84
        },
        {
          "output_type": "display_data",
          "data": {
            "image/png": "[encoded data removed]",
            "text/plain": [
              "<Figure size 432x288 with 1 Axes>"
            ]
          },
          "metadata": {}
        }
      ]
    },
    {
      "cell_type": "code",
      "metadata": {
        "colab": {
          "base_uri": "https://localhost:8080/",
          "height": 364
        },
        "id": "NF3SP1oZa3NK",
        "outputId": "406a9acc-d8ef-48f4-ea22-df58943cdd66"
      },
      "source": [
        "## Check performance: Confusion matrix\n",
        "plot_confusion_matrix(model, X_o_test, y_o_test)"
      ],
      "execution_count": 85,
      "outputs": [
        {
          "output_type": "stream",
          "name": "stderr",
          "text": [
            "/usr/local/lib/python3.7/dist-packages/sklearn/utils/deprecation.py:87: FutureWarning: Function plot_confusion_matrix is deprecated; Function `plot_confusion_matrix` is deprecated in 1.0 and will be removed in 1.2. Use one of the class methods: ConfusionMatrixDisplay.from_predictions or ConfusionMatrixDisplay.from_estimator.\n",
            "  warnings.warn(msg, category=FutureWarning)\n"
          ]
        },
        {
          "output_type": "execute_result",
          "data": {
            "text/plain": [
              "<sklearn.metrics._plot.confusion_matrix.ConfusionMatrixDisplay at 0x7f63f247e790>"
            ]
          },
          "metadata": {},
          "execution_count": 85
        },
        {
          "output_type": "display_data",
          "data": {
            "image/png": "[encoded data removed]",
            "text/plain": [
              "<Figure size 432x288 with 2 Axes>"
            ]
          },
          "metadata": {}
        }
      ]
    },
    {
      "cell_type": "code",
      "metadata": {
        "colab": {
          "base_uri": "https://localhost:8080/"
        },
        "id": "SAYMcFisbS7X",
        "outputId": "e43ec3d1-1891-4164-a13a-172035b874c1"
      },
      "source": [
        "## Check performance: Classification report\n",
        "print(classification_report(y_o_test, model.predict(X_o_test)))"
      ],
      "execution_count": 86,
      "outputs": [
        {
          "output_type": "stream",
          "name": "stdout",
          "text": [
            "              precision    recall  f1-score   support\n",
            "\n",
            "          No       0.97      1.00      0.98       919\n",
            "         Yes       0.00      0.00      0.00        28\n",
            "\n",
            "    accuracy                           0.97       947\n",
            "   macro avg       0.49      0.50      0.49       947\n",
            "weighted avg       0.94      0.97      0.96       947\n",
            "\n"
          ]
        },
        {
          "output_type": "stream",
          "name": "stderr",
          "text": [
            "/usr/local/lib/python3.7/dist-packages/sklearn/metrics/_classification.py:1308: UndefinedMetricWarning: Precision and F-score are ill-defined and being set to 0.0 in labels with no predicted samples. Use `zero_division` parameter to control this behavior.\n",
            "  _warn_prf(average, modifier, msg_start, len(result))\n",
            "/usr/local/lib/python3.7/dist-packages/sklearn/metrics/_classification.py:1308: UndefinedMetricWarning: Precision and F-score are ill-defined and being set to 0.0 in labels with no predicted samples. Use `zero_division` parameter to control this behavior.\n",
            "  _warn_prf(average, modifier, msg_start, len(result))\n",
            "/usr/local/lib/python3.7/dist-packages/sklearn/metrics/_classification.py:1308: UndefinedMetricWarning: Precision and F-score are ill-defined and being set to 0.0 in labels with no predicted samples. Use `zero_division` parameter to control this behavior.\n",
            "  _warn_prf(average, modifier, msg_start, len(result))\n"
          ]
        }
      ]
    },
    {
      "cell_type": "code",
      "metadata": {
        "colab": {
          "base_uri": "https://localhost:8080/",
          "height": 457
        },
        "id": "btorJmtLCvdD",
        "outputId": "c3e6fd49-d1fb-4b8c-a802-42ce60932719"
      },
      "source": [
        "## Check performance: Feature importance\n",
        "model.get_feature_importance(prettified=True)"
      ],
      "execution_count": 87,
      "outputs": [
        {
          "output_type": "execute_result",
          "data": {
            "text/html": [
              "<div>\n",
              "<style scoped>\n",
              "    .dataframe tbody tr th:only-of-type {\n",
              "        vertical-align: middle;\n",
              "    }\n",
              "\n",
              "    .dataframe tbody tr th {\n",
              "        vertical-align: top;\n",
              "    }\n",
              "\n",
              "    .dataframe thead th {\n",
              "        text-align: right;\n",
              "    }\n",
              "</style>\n",
              "<table border=\"1\" class=\"dataframe\">\n",
              "  <thead>\n",
              "    <tr style=\"text-align: right;\">\n",
              "      <th></th>\n",
              "      <th>Feature Id</th>\n",
              "      <th>Importances</th>\n",
              "    </tr>\n",
              "  </thead>\n",
              "  <tbody>\n",
              "    <tr>\n",
              "      <th>0</th>\n",
              "      <td>blood.pressure</td>\n",
              "      <td>18.41101270052824290246462624054402112960815429...</td>\n",
              "    </tr>\n",
              "    <tr>\n",
              "      <th>1</th>\n",
              "      <td>age</td>\n",
              "      <td>18.35988370879688602599344449117779731750488281...</td>\n",
              "    </tr>\n",
              "    <tr>\n",
              "      <th>2</th>\n",
              "      <td>gender</td>\n",
              "      <td>16.33726104624922470520687056705355644226074218...</td>\n",
              "    </tr>\n",
              "    <tr>\n",
              "      <th>3</th>\n",
              "      <td>smoke</td>\n",
              "      <td>11.92579801386261451057180238422006368637084960...</td>\n",
              "    </tr>\n",
              "    <tr>\n",
              "      <th>4</th>\n",
              "      <td>covered.health</td>\n",
              "      <td>8.770220561330607011996107758022844791412353515...</td>\n",
              "    </tr>\n",
              "    <tr>\n",
              "      <th>5</th>\n",
              "      <td>physical.activity</td>\n",
              "      <td>6.139298728307506003432081342907622456550598144...</td>\n",
              "    </tr>\n",
              "    <tr>\n",
              "      <th>6</th>\n",
              "      <td>healthy.diet</td>\n",
              "      <td>6.104310324150268307619171537226065993309020996...</td>\n",
              "    </tr>\n",
              "    <tr>\n",
              "      <th>7</th>\n",
              "      <td>education</td>\n",
              "      <td>4.120673040425460342817132186610251665115356445...</td>\n",
              "    </tr>\n",
              "    <tr>\n",
              "      <th>8</th>\n",
              "      <td>marriage</td>\n",
              "      <td>3.410875747435730520606966820196248590946197509...</td>\n",
              "    </tr>\n",
              "    <tr>\n",
              "      <th>9</th>\n",
              "      <td>bmi</td>\n",
              "      <td>2.475475834329276203504832665203139185905456542...</td>\n",
              "    </tr>\n",
              "    <tr>\n",
              "      <th>10</th>\n",
              "      <td>diabetes</td>\n",
              "      <td>1.775250314019948039145901930169202387332916259...</td>\n",
              "    </tr>\n",
              "    <tr>\n",
              "      <th>11</th>\n",
              "      <td>arthritis.type</td>\n",
              "      <td>1.597961610615960204029306623851880431175231933...</td>\n",
              "    </tr>\n",
              "    <tr>\n",
              "      <th>12</th>\n",
              "      <td>medical.access</td>\n",
              "      <td>0.571978369948397569189069145068060606718063354...</td>\n",
              "    </tr>\n",
              "  </tbody>\n",
              "</table>\n",
              "</div>"
            ],
            "text/plain": [
              "           Feature Id                                        Importances\n",
              "0      blood.pressure 18.41101270052824290246462624054402112960815429...\n",
              "1                 age 18.35988370879688602599344449117779731750488281...\n",
              "2              gender 16.33726104624922470520687056705355644226074218...\n",
              "3               smoke 11.92579801386261451057180238422006368637084960...\n",
              "4      covered.health 8.770220561330607011996107758022844791412353515...\n",
              "5   physical.activity 6.139298728307506003432081342907622456550598144...\n",
              "6        healthy.diet 6.104310324150268307619171537226065993309020996...\n",
              "7           education 4.120673040425460342817132186610251665115356445...\n",
              "8            marriage 3.410875747435730520606966820196248590946197509...\n",
              "9                 bmi 2.475475834329276203504832665203139185905456542...\n",
              "10           diabetes 1.775250314019948039145901930169202387332916259...\n",
              "11     arthritis.type 1.597961610615960204029306623851880431175231933...\n",
              "12     medical.access 0.571978369948397569189069145068060606718063354..."
            ]
          },
          "metadata": {},
          "execution_count": 87
        }
      ]
    },
    {
      "cell_type": "markdown",
      "metadata": {
        "id": "H3NgUuqx893u"
      },
      "source": [
        "### Model evaluation\n",
        "\n",
        "It looks like our CatBoost model performs very similarly to our simple logistic regression. Again, age and bloodpressure are the best predictors of HA. Again, it seems like our model always (100% of the cases) predicts the sample to NOT have a heart attack. This leads to the same high accuracy (97%) since there are a lot of true negatives, and in our confusion matrix we again see that the model has zero true positives. \n",
        "This would make also this model a bad model, as it is not able to predict HA succesfully.\n",
        "\n",
        "As mentioned before, we should perhaps better weight the outcome variable due to the class imbalance. Let's have a look if that helps us!\n",
        "\n",
        "\n"
      ]
    },
    {
      "cell_type": "markdown",
      "metadata": {
        "id": "PZyfRfW6OrA8"
      },
      "source": [
        "## Part 4.2: Let's try to increase performance using weights\n",
        "\n",
        "Given the major class imbalance, let's see if the performance increases of we add weights. We will weight the \"no HA\" values with a low weight and the \"HA\" values with a higher weight. \n",
        "\n",
        "\n"
      ]
    },
    {
      "cell_type": "code",
      "metadata": {
        "id": "8lx7GBNBNggx",
        "colab": {
          "base_uri": "https://localhost:8080/",
          "height": 735
        },
        "outputId": "74c10b8b-273a-4418-f5d9-5e9086f0f81e"
      },
      "source": [
        "## Run CatBoost Classifier\n",
        "model = CatBoostClassifier(iterations=200, learning_rate=0.05, random_seed=1, loss_function=\"Logloss\", class_weights=[0.1, 0.9])\n",
        "model.fit(X_o_train, y_o_train,\n",
        "          cat_features=cat_features,\n",
        "          eval_set=(X_o_test, y_o_test),\n",
        "          verbose = False)\n",
        "\n",
        "## Check performance\n",
        "model.predict_proba(X_o_train)\n",
        "\n",
        "# How many unique predictions are there?\n",
        "list(set(model.predict(data=X_o_test)))\n",
        "## Check performance: accuracy score\n",
        "train_score = accuracy_score(y_o_train, model.predict(X_o_train)) * 100\n",
        "test_score  = accuracy_score(y_o_test,  model.predict(X_o_test))  * 100\n",
        "\n",
        "print(\"Training accuracy score: {}\".format(train_score))\n",
        "print(\"Test accuracy score: {}\".format(test_score))\n",
        "\n",
        "## Check performance: ROC curve\n",
        "plot_roc_curve(model, X_o_test, y_o_test)\n",
        "\n",
        "## Check performance: Confusion matrix\n",
        "plot_confusion_matrix(model, X_o_test, y_o_test)\n"
      ],
      "execution_count": 88,
      "outputs": [
        {
          "output_type": "stream",
          "name": "stdout",
          "text": [
            "Training accuracy score: 95.74093629003872\n",
            "Test accuracy score: 94.50897571277719\n"
          ]
        },
        {
          "output_type": "stream",
          "name": "stderr",
          "text": [
            "/usr/local/lib/python3.7/dist-packages/sklearn/utils/deprecation.py:87: FutureWarning: Function plot_roc_curve is deprecated; Function `plot_roc_curve` is deprecated in 1.0 and will be removed in 1.2. Use one of the class methods: RocCurveDisplay.from_predictions or RocCurveDisplay.from_estimator.\n",
            "  warnings.warn(msg, category=FutureWarning)\n",
            "/usr/local/lib/python3.7/dist-packages/sklearn/utils/deprecation.py:87: FutureWarning: Function plot_confusion_matrix is deprecated; Function `plot_confusion_matrix` is deprecated in 1.0 and will be removed in 1.2. Use one of the class methods: ConfusionMatrixDisplay.from_predictions or ConfusionMatrixDisplay.from_estimator.\n",
            "  warnings.warn(msg, category=FutureWarning)\n"
          ]
        },
        {
          "output_type": "execute_result",
          "data": {
            "text/plain": [
              "<sklearn.metrics._plot.confusion_matrix.ConfusionMatrixDisplay at 0x7f63f1bdfb90>"
            ]
          },
          "metadata": {},
          "execution_count": 88
        },
        {
          "output_type": "display_data",
          "data": {
            "image/png": "[encoded data removed]",
            "text/plain": [
              "<Figure size 432x288 with 1 Axes>"
            ]
          },
          "metadata": {}
        },
        {
          "output_type": "display_data",
          "data": {
            "image/png": "[encoded data removed]",
            "text/plain": [
              "<Figure size 432x288 with 2 Axes>"
            ]
          },
          "metadata": {}
        }
      ]
    },
    {
      "cell_type": "code",
      "metadata": {
        "id": "NEqDsTGgOKH0",
        "colab": {
          "base_uri": "https://localhost:8080/"
        },
        "outputId": "7e5ac4ce-44de-463d-8ffa-6d9807c52adb"
      },
      "source": [
        "## Check performance: Classification report\n",
        "print(classification_report(y_o_test, model.predict(X_o_test)))\n"
      ],
      "execution_count": 89,
      "outputs": [
        {
          "output_type": "stream",
          "name": "stdout",
          "text": [
            "              precision    recall  f1-score   support\n",
            "\n",
            "          No       0.98      0.96      0.97       919\n",
            "         Yes       0.21      0.32      0.26        28\n",
            "\n",
            "    accuracy                           0.95       947\n",
            "   macro avg       0.60      0.64      0.61       947\n",
            "weighted avg       0.96      0.95      0.95       947\n",
            "\n"
          ]
        }
      ]
    },
    {
      "cell_type": "code",
      "metadata": {
        "colab": {
          "base_uri": "https://localhost:8080/",
          "height": 457
        },
        "id": "i4VYOSBFOD7c",
        "outputId": "78586a5d-cf95-430b-935e-9b27334e2668"
      },
      "source": [
        "## Check performance: Feature importance\n",
        "model.get_feature_importance(prettified=True)"
      ],
      "execution_count": 90,
      "outputs": [
        {
          "output_type": "execute_result",
          "data": {
            "text/html": [
              "<div>\n",
              "<style scoped>\n",
              "    .dataframe tbody tr th:only-of-type {\n",
              "        vertical-align: middle;\n",
              "    }\n",
              "\n",
              "    .dataframe tbody tr th {\n",
              "        vertical-align: top;\n",
              "    }\n",
              "\n",
              "    .dataframe thead th {\n",
              "        text-align: right;\n",
              "    }\n",
              "</style>\n",
              "<table border=\"1\" class=\"dataframe\">\n",
              "  <thead>\n",
              "    <tr style=\"text-align: right;\">\n",
              "      <th></th>\n",
              "      <th>Feature Id</th>\n",
              "      <th>Importances</th>\n",
              "    </tr>\n",
              "  </thead>\n",
              "  <tbody>\n",
              "    <tr>\n",
              "      <th>0</th>\n",
              "      <td>blood.pressure</td>\n",
              "      <td>16.89966218518756235766886675264686346054077148...</td>\n",
              "    </tr>\n",
              "    <tr>\n",
              "      <th>1</th>\n",
              "      <td>age</td>\n",
              "      <td>15.49808021979967520564969163388013839721679687...</td>\n",
              "    </tr>\n",
              "    <tr>\n",
              "      <th>2</th>\n",
              "      <td>gender</td>\n",
              "      <td>15.42274096419377293898378411540761590003967285...</td>\n",
              "    </tr>\n",
              "    <tr>\n",
              "      <th>3</th>\n",
              "      <td>smoke</td>\n",
              "      <td>14.44757495060925123198103392496705055236816406...</td>\n",
              "    </tr>\n",
              "    <tr>\n",
              "      <th>4</th>\n",
              "      <td>covered.health</td>\n",
              "      <td>6.623552875033038134233720484189689159393310546...</td>\n",
              "    </tr>\n",
              "    <tr>\n",
              "      <th>5</th>\n",
              "      <td>healthy.diet</td>\n",
              "      <td>6.024985940955183139067230513319373130798339843...</td>\n",
              "    </tr>\n",
              "    <tr>\n",
              "      <th>6</th>\n",
              "      <td>physical.activity</td>\n",
              "      <td>5.939705448045791591482611693209037184715270996...</td>\n",
              "    </tr>\n",
              "    <tr>\n",
              "      <th>7</th>\n",
              "      <td>education</td>\n",
              "      <td>5.416955882298512214845231937943026423454284667...</td>\n",
              "    </tr>\n",
              "    <tr>\n",
              "      <th>8</th>\n",
              "      <td>marriage</td>\n",
              "      <td>5.158483288263760790925971377873793244361877441...</td>\n",
              "    </tr>\n",
              "    <tr>\n",
              "      <th>9</th>\n",
              "      <td>bmi</td>\n",
              "      <td>3.144067524787691247922793991165235638618469238...</td>\n",
              "    </tr>\n",
              "    <tr>\n",
              "      <th>10</th>\n",
              "      <td>medical.access</td>\n",
              "      <td>2.977579415193894352142933712457306683063507080...</td>\n",
              "    </tr>\n",
              "    <tr>\n",
              "      <th>11</th>\n",
              "      <td>diabetes</td>\n",
              "      <td>1.650057945346721455237570808094460517168045043...</td>\n",
              "    </tr>\n",
              "    <tr>\n",
              "      <th>12</th>\n",
              "      <td>arthritis.type</td>\n",
              "      <td>0.796553360285157441289527469052700325846672058...</td>\n",
              "    </tr>\n",
              "  </tbody>\n",
              "</table>\n",
              "</div>"
            ],
            "text/plain": [
              "           Feature Id                                        Importances\n",
              "0      blood.pressure 16.89966218518756235766886675264686346054077148...\n",
              "1                 age 15.49808021979967520564969163388013839721679687...\n",
              "2              gender 15.42274096419377293898378411540761590003967285...\n",
              "3               smoke 14.44757495060925123198103392496705055236816406...\n",
              "4      covered.health 6.623552875033038134233720484189689159393310546...\n",
              "5        healthy.diet 6.024985940955183139067230513319373130798339843...\n",
              "6   physical.activity 5.939705448045791591482611693209037184715270996...\n",
              "7           education 5.416955882298512214845231937943026423454284667...\n",
              "8            marriage 5.158483288263760790925971377873793244361877441...\n",
              "9                 bmi 3.144067524787691247922793991165235638618469238...\n",
              "10     medical.access 2.977579415193894352142933712457306683063507080...\n",
              "11           diabetes 1.650057945346721455237570808094460517168045043...\n",
              "12     arthritis.type 0.796553360285157441289527469052700325846672058..."
            ]
          },
          "metadata": {},
          "execution_count": 90
        }
      ]
    },
    {
      "cell_type": "markdown",
      "metadata": {
        "id": "C-4q8JKpQE1c"
      },
      "source": [
        "### Model evaluation\n",
        "\n",
        "It looks like the model performs a bit more natural after adding the weights. As expected, the accuracy will be lower since we will have more predictions for HA, leading to more false positives. \n",
        "The main difference is that this model now has some true positives, which is more fitting to the truth. \n",
        "\n",
        "Ultimately, more techniques should be used to optimise the model and finetune the parameters such as adjusting learning rate, number of trees, tree depth etc. using for example grid search. \n",
        "\n",
        "\n"
      ]
    },
    {
      "cell_type": "markdown",
      "metadata": {
        "id": "MQbOGQVfRPlk"
      },
      "source": [
        "## Part 5:\tIs Rheumatoid arthritis a good predictor for heart attack? Are there other confounders that cloud the predictive power of the feature? How could we find them?\n",
        "\n",
        "From our initial feature importance measurements we can deduce that arthritis is not a very good predictor for HA. \n",
        "However, this alone cannot tell us if this is the true predictive power of arthritis on HA. \n",
        "We can imagine that mostly older individuals will have arthritis, therefore we could expect this variable to be potentially highly correlated to age and thus overlapping variance could already be explained by age. In continous variables we would speak of multicollinearity, but since categorical features cannot be linearly related, we check for independence between our variables. \n",
        "In other words, the variable arthritis can be correlated to other predictors. Even though we could potentially find a high predictive power for our model, if our predictor variables are not independent, statistically, we cannot conclude that individually the predictors have an effect on the outcome measurement. We cannot really tell the individual contribution of the related variables.\n",
        "\n",
        "Let's test for independence in our variables by calculating chi-square value to see if the variables are related.\n"
      ]
    },
    {
      "cell_type": "code",
      "metadata": {
        "colab": {
          "base_uri": "https://localhost:8080/"
        },
        "id": "m4fTmv817dSX",
        "outputId": "47c9cb17-5d47-49da-d514-ba8ef5b7bc93"
      },
      "source": [
        "CrosstabResult=pd.crosstab(index=data['arthritis.type'],columns=data['age_1'])\n",
        "print(CrosstabResult)\n",
        "\n",
        "# Performing Chi-sq test\n",
        "ChiSqResult = chi2_contingency(CrosstabResult)\n",
        "print('The P-Value of the ChiSq Test is:', float(ChiSqResult[1]))\n",
        "\n",
        "for cols in data:\n",
        "    nl = \"\\n\"\n",
        "\n",
        "    ## Build crosstab between arthritis and all other variables\n",
        "    crosstab = pd.crosstab(data[f\"{cols}\"], data['arthritis.type'])\n",
        "    print(crosstab, nl)\n",
        "    chi2, p, dof, expected = chi2_contingency(crosstab)\n",
        "    print(f\"Chi2 value= {chi2}{nl}p-value= {p}{nl}Degrees of freedom= {dof}{nl}\")\n"
      ],
      "execution_count": 91,
      "outputs": [
        {
          "output_type": "stream",
          "name": "stdout",
          "text": [
            "age_1              0    1\n",
            "arthritis.type           \n",
            "0               2650  894\n",
            "1                117  127\n",
            "The P-Value of the ChiSq Test is: 1.315803381301675e-19\n",
            "arthritis.type     0    1\n",
            "arthritis.type           \n",
            "0               3544    0\n",
            "1                  0  244 \n",
            "\n",
            "Chi2 value= 3771.424733082304\n",
            "p-value= 0.0\n",
            "Degrees of freedom= 1\n",
            "\n",
            "arthritis.type     0    1\n",
            "gender                   \n",
            "0               1713  137\n",
            "1               1831  107 \n",
            "\n",
            "Chi2 value= 5.267798365666492\n",
            "p-value= 0.021723470627477363\n",
            "Degrees of freedom= 1\n",
            "\n",
            "arthritis.type     0    1\n",
            "bmi                      \n",
            "0               1114   62\n",
            "1               2430  182 \n",
            "\n",
            "Chi2 value= 3.5929365609346053\n",
            "p-value= 0.058025622268906764\n",
            "Degrees of freedom= 1\n",
            "\n",
            "arthritis.type     0    1\n",
            "diabetes                 \n",
            "0               3246  216\n",
            "1                298   28 \n",
            "\n",
            "Chi2 value= 2.3537997773991255\n",
            "p-value= 0.12497804211094259\n",
            "Degrees of freedom= 1\n",
            "\n",
            "arthritis.type     0    1\n",
            "smoke                    \n",
            "0               1995  109\n",
            "1               1549  135 \n",
            "\n",
            "Chi2 value= 12.01722911634658\n",
            "p-value= 0.0005271100768591226\n",
            "Degrees of freedom= 1\n",
            "\n",
            "arthritis.type     0    1\n",
            "marriage                 \n",
            "0               2160  117\n",
            "1               1384  127 \n",
            "\n",
            "Chi2 value= 15.54561008945404\n",
            "p-value= 8.053844419200247e-05\n",
            "Degrees of freedom= 1\n",
            "\n",
            "arthritis.type     0    1\n",
            "medical.access           \n",
            "0                662   12\n",
            "1               2882  232 \n",
            "\n",
            "Chi2 value= 28.62241142002151\n",
            "p-value= 8.795825538843707e-08\n",
            "Degrees of freedom= 1\n",
            "\n",
            "arthritis.type     0    1\n",
            "blood.pressure           \n",
            "0               2625  106\n",
            "1                919  138 \n",
            "\n",
            "Chi2 value= 104.91791882589956\n",
            "p-value= 1.2730150601550196e-24\n",
            "Degrees of freedom= 1\n",
            "\n",
            "arthritis.type     0    1\n",
            "covered.health           \n",
            "0               1022   37\n",
            "1               2522  207 \n",
            "\n",
            "Chi2 value= 20.51775541733383\n",
            "p-value= 5.908066511571322e-06\n",
            "Degrees of freedom= 1\n",
            "\n",
            "arthritis.type     0    1\n",
            "heart.attack             \n",
            "0               3454  224\n",
            "1                 90   20 \n",
            "\n",
            "Chi2 value= 23.944076961786102\n",
            "p-value= 9.917493839199096e-07\n",
            "Degrees of freedom= 1\n",
            "\n",
            "arthritis.type     0    1\n",
            "age_1                    \n",
            "0               2650  117\n",
            "1                894  127 \n",
            "\n",
            "Chi2 value= 82.06655623042522\n",
            "p-value= 1.315803381301675e-19\n",
            "Degrees of freedom= 1\n",
            "\n",
            "arthritis.type     0    1\n",
            "age_2                    \n",
            "0               3170  191\n",
            "1                374   53 \n",
            "\n",
            "Chi2 value= 27.36307428649573\n",
            "p-value= 1.6862050881927875e-07\n",
            "Degrees of freedom= 1\n",
            "\n",
            "arthritis.type     0    1\n",
            "education_1              \n",
            "0               2069  134\n",
            "1               1475  110 \n",
            "\n",
            "Chi2 value= 0.9867895153789197\n",
            "p-value= 0.3205283129361346\n",
            "Degrees of freedom= 1\n",
            "\n",
            "arthritis.type     0    1\n",
            "education_2              \n",
            "0               3148  212\n",
            "1                396   32 \n",
            "\n",
            "Chi2 value= 0.6753560269044703\n",
            "p-value= 0.41119046121678515\n",
            "Degrees of freedom= 1\n",
            "\n",
            "arthritis.type          0    1\n",
            "physical.activity_1           \n",
            "0                    2739  198\n",
            "1                     805   46 \n",
            "\n",
            "Chi2 value= 1.7392787003272707\n",
            "p-value= 0.18723024612981115\n",
            "Degrees of freedom= 1\n",
            "\n",
            "arthritis.type          0    1\n",
            "physical.activity_2           \n",
            "0                    1573   78\n",
            "1                    1971  166 \n",
            "\n",
            "Chi2 value= 13.815432457918444\n",
            "p-value= 0.00020167290147435872\n",
            "Degrees of freedom= 1\n",
            "\n",
            "arthritis.type     0    1\n",
            "healthy.diet_1           \n",
            "0               1012   84\n",
            "1               2532  160 \n",
            "\n",
            "Chi2 value= 3.5464724466243425\n",
            "p-value= 0.059672182604695485\n",
            "Degrees of freedom= 1\n",
            "\n",
            "arthritis.type     0    1\n",
            "healthy.diet_2           \n",
            "0               3351  221\n",
            "1                193   23 \n",
            "\n",
            "Chi2 value= 6.006514706361039\n",
            "p-value= 0.014253152908161254\n",
            "Degrees of freedom= 1\n",
            "\n"
          ]
        }
      ]
    },
    {
      "cell_type": "markdown",
      "metadata": {
        "id": "oVjv-yM6BwAJ"
      },
      "source": [
        "It looks like arthritis is related to age as expected. We find however that more variables are related to arthritis as well. This could cloud the predictive power of arthritis. A solution to this problem would be to reduce the amount of dimension. One could use PCA or factor analysis methods to find the main dimensions/components/factors contribute to the predictive power of the model.\n",
        "  "
      ]
    }
  ]
}